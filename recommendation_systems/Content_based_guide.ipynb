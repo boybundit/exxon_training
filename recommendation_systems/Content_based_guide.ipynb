{
  "nbformat": 4,
  "nbformat_minor": 0,
  "metadata": {
    "colab": {
      "name": "Content-based_guide.ipynb",
      "version": "0.3.2",
      "provenance": [],
      "include_colab_link": true
    },
    "kernelspec": {
      "display_name": "Python 3",
      "language": "python",
      "name": "python3"
    }
  },
  "cells": [
    {
      "cell_type": "markdown",
      "metadata": {
        "id": "view-in-github",
        "colab_type": "text"
      },
      "source": [
        "[View in Colaboratory](https://colab.research.google.com/github/ekapolc/exxon_training/blob/master/recommendation_systems/Content_based_guide.ipynb)"
      ]
    },
    {
      "metadata": {
        "id": "g_DvQRVBwIsC",
        "colab_type": "text"
      },
      "cell_type": "markdown",
      "source": [
        "# Implementing a Simple Content-based Recommender\n",
        "\n",
        "In this guideline, you will be guided through implementing a simple content-based recommender system in python. \n",
        "\n",
        "In a content-based recommender system, what we care about most is the **content** of the items we are recommending.\n",
        "\n",
        "Note: You need python 3 and above for this tutorial. You can check your version of python by typing \n",
        "'python --version' into your terminal.\n",
        "\n",
        "(if you are using macOS and have already installed python3, try 'python3 --version' instead, as python2 and python3 can coexist in the same system)"
      ]
    },
    {
      "metadata": {
        "id": "wGTev2_OwIsE",
        "colab_type": "text"
      },
      "cell_type": "markdown",
      "source": [
        "## Installing Packages\n",
        "\n",
        "\n",
        "---\n",
        "\n"
      ]
    },
    {
      "metadata": {
        "id": "Cq2fEWO2wIsE",
        "colab_type": "text"
      },
      "cell_type": "markdown",
      "source": [
        "We've handled the installation of packages in this tutorial on google collab. If you are ever working locally,  do not forget to install these packages by pasting the following code in your terminal. \n",
        "\n",
        "-pip3 install pandas\n",
        "\n",
        "-pip3 install numpy\n",
        "\n",
        "-pip3 install pythainlp\n",
        "\n",
        "-pip3 install gensim\n",
        "\n",
        "-pip3 install corpus\n",
        "\n",
        "-pip3 install stop_words\n"
      ]
    },
    {
      "metadata": {
        "id": "AL6SORyewIsF",
        "colab_type": "text"
      },
      "cell_type": "markdown",
      "source": [
        "## Opening our data files with Pandas. \n",
        "\n",
        "---\n",
        "\n",
        "Please feel free to skip this section if you are already familiar with Pandas. \n",
        "\n",
        "Python has a very convenient library for dealing with a large amount of data called **Pandas**.\n",
        "\n",
        "We have provided several different data files for you to use in the **CSV(comma-separated values)** form. However, instead of comma, we use semicolon as the separator instead to avoid the case of our data containing commas. \n",
        "\n",
        "Pandas has a class for working with data called **Dataframe**.\n",
        "\n",
        "In this section of this guideline, we will explore useful functions of the pandas.dataframe class. \n"
      ]
    },
    {
      "metadata": {
        "id": "74wZeH-cwIsG",
        "colab_type": "text"
      },
      "cell_type": "markdown",
      "source": [
        "Before we use Dataframe, we will have to import pandas."
      ]
    },
    {
      "metadata": {
        "id": "385kKSyYwIsH",
        "colab_type": "code",
        "colab": {}
      },
      "cell_type": "code",
      "source": [
        "import pandas"
      ],
      "execution_count": 0,
      "outputs": []
    },
    {
      "metadata": {
        "id": "99NkCaJWwIsK",
        "colab_type": "text"
      },
      "cell_type": "markdown",
      "source": [
        "We will now try to open our .csv data file with pandas' **.read_csv**\n",
        "\n",
        "You can also obtain basic statistics of the dataframe with **.describe()**"
      ]
    },
    {
      "metadata": {
        "id": "bkyb8uHMwIsL",
        "colab_type": "code",
        "colab": {
          "base_uri": "https://localhost:8080/",
          "height": 297
        },
        "outputId": "fbcd2cb6-c765-4d1b-b755-161118672702"
      },
      "cell_type": "code",
      "source": [
        "df = pandas.read_csv('https://raw.githubusercontent.com/PanthonImem/Content-Based-Lab-Notebook/master/userLog_201801_201802_for_participants.csv', sep = ';')\n",
        "df.describe()\n"
      ],
      "execution_count": 0,
      "outputs": [
        {
          "output_type": "execute_result",
          "data": {
            "text/html": [
              "<div>\n",
              "<style scoped>\n",
              "    .dataframe tbody tr th:only-of-type {\n",
              "        vertical-align: middle;\n",
              "    }\n",
              "\n",
              "    .dataframe tbody tr th {\n",
              "        vertical-align: top;\n",
              "    }\n",
              "\n",
              "    .dataframe thead th {\n",
              "        text-align: right;\n",
              "    }\n",
              "</style>\n",
              "<table border=\"1\" class=\"dataframe\">\n",
              "  <thead>\n",
              "    <tr style=\"text-align: right;\">\n",
              "      <th></th>\n",
              "      <th>project_id</th>\n",
              "      <th>year</th>\n",
              "      <th>month</th>\n",
              "      <th>day</th>\n",
              "      <th>hour</th>\n",
              "    </tr>\n",
              "  </thead>\n",
              "  <tbody>\n",
              "    <tr>\n",
              "      <th>count</th>\n",
              "      <td>1.234579e+06</td>\n",
              "      <td>1234579.0</td>\n",
              "      <td>1.234579e+06</td>\n",
              "      <td>1.234579e+06</td>\n",
              "      <td>1.234579e+06</td>\n",
              "    </tr>\n",
              "    <tr>\n",
              "      <th>mean</th>\n",
              "      <td>6.401208e+03</td>\n",
              "      <td>2018.0</td>\n",
              "      <td>1.427945e+00</td>\n",
              "      <td>1.476546e+01</td>\n",
              "      <td>1.424961e+01</td>\n",
              "    </tr>\n",
              "    <tr>\n",
              "      <th>std</th>\n",
              "      <td>2.197497e+03</td>\n",
              "      <td>0.0</td>\n",
              "      <td>4.947810e-01</td>\n",
              "      <td>8.233066e+00</td>\n",
              "      <td>5.774527e+00</td>\n",
              "    </tr>\n",
              "    <tr>\n",
              "      <th>min</th>\n",
              "      <td>4.000000e+00</td>\n",
              "      <td>2018.0</td>\n",
              "      <td>1.000000e+00</td>\n",
              "      <td>1.000000e+00</td>\n",
              "      <td>0.000000e+00</td>\n",
              "    </tr>\n",
              "    <tr>\n",
              "      <th>25%</th>\n",
              "      <td>4.928000e+03</td>\n",
              "      <td>2018.0</td>\n",
              "      <td>1.000000e+00</td>\n",
              "      <td>8.000000e+00</td>\n",
              "      <td>1.100000e+01</td>\n",
              "    </tr>\n",
              "    <tr>\n",
              "      <th>50%</th>\n",
              "      <td>6.446000e+03</td>\n",
              "      <td>2018.0</td>\n",
              "      <td>1.000000e+00</td>\n",
              "      <td>1.500000e+01</td>\n",
              "      <td>1.500000e+01</td>\n",
              "    </tr>\n",
              "    <tr>\n",
              "      <th>75%</th>\n",
              "      <td>8.428000e+03</td>\n",
              "      <td>2018.0</td>\n",
              "      <td>2.000000e+00</td>\n",
              "      <td>2.100000e+01</td>\n",
              "      <td>1.900000e+01</td>\n",
              "    </tr>\n",
              "    <tr>\n",
              "      <th>max</th>\n",
              "      <td>9.504000e+03</td>\n",
              "      <td>2018.0</td>\n",
              "      <td>2.000000e+00</td>\n",
              "      <td>3.100000e+01</td>\n",
              "      <td>2.300000e+01</td>\n",
              "    </tr>\n",
              "  </tbody>\n",
              "</table>\n",
              "</div>"
            ],
            "text/plain": [
              "         project_id       year         month           day          hour\n",
              "count  1.234579e+06  1234579.0  1.234579e+06  1.234579e+06  1.234579e+06\n",
              "mean   6.401208e+03     2018.0  1.427945e+00  1.476546e+01  1.424961e+01\n",
              "std    2.197497e+03        0.0  4.947810e-01  8.233066e+00  5.774527e+00\n",
              "min    4.000000e+00     2018.0  1.000000e+00  1.000000e+00  0.000000e+00\n",
              "25%    4.928000e+03     2018.0  1.000000e+00  8.000000e+00  1.100000e+01\n",
              "50%    6.446000e+03     2018.0  1.000000e+00  1.500000e+01  1.500000e+01\n",
              "75%    8.428000e+03     2018.0  2.000000e+00  2.100000e+01  1.900000e+01\n",
              "max    9.504000e+03     2018.0  2.000000e+00  3.100000e+01  2.300000e+01"
            ]
          },
          "metadata": {
            "tags": []
          },
          "execution_count": 93
        }
      ]
    },
    {
      "metadata": {
        "id": "DUTkFx05wIsV",
        "colab_type": "text"
      },
      "cell_type": "markdown",
      "source": [
        "**.head(n)** shows the first n rows of the dataframe. \n",
        "\n",
        "**.tail(n)** shows the last n rows of the dataframe."
      ]
    },
    {
      "metadata": {
        "id": "Tx9tBMY_wIsW",
        "colab_type": "code",
        "colab": {
          "base_uri": "https://localhost:8080/",
          "height": 359
        },
        "outputId": "0d1c7c1a-3594-4b52-f43b-b042204d5075"
      },
      "cell_type": "code",
      "source": [
        "df.head(10)"
      ],
      "execution_count": 0,
      "outputs": [
        {
          "output_type": "execute_result",
          "data": {
            "text/html": [
              "<div>\n",
              "<style scoped>\n",
              "    .dataframe tbody tr th:only-of-type {\n",
              "        vertical-align: middle;\n",
              "    }\n",
              "\n",
              "    .dataframe tbody tr th {\n",
              "        vertical-align: top;\n",
              "    }\n",
              "\n",
              "    .dataframe thead th {\n",
              "        text-align: right;\n",
              "    }\n",
              "</style>\n",
              "<table border=\"1\" class=\"dataframe\">\n",
              "  <thead>\n",
              "    <tr style=\"text-align: right;\">\n",
              "      <th></th>\n",
              "      <th>userCode</th>\n",
              "      <th>project_id</th>\n",
              "      <th>requestedDevice</th>\n",
              "      <th>userAgent</th>\n",
              "      <th>pageReferrer</th>\n",
              "      <th>year</th>\n",
              "      <th>month</th>\n",
              "      <th>day</th>\n",
              "      <th>hour</th>\n",
              "    </tr>\n",
              "  </thead>\n",
              "  <tbody>\n",
              "    <tr>\n",
              "      <th>0</th>\n",
              "      <td>7717bdc2-ea3e-e8ad-5d6b-178bd71c38b2</td>\n",
              "      <td>7956</td>\n",
              "      <td>Mobile</td>\n",
              "      <td>Android</td>\n",
              "      <td>HomeWebsite</td>\n",
              "      <td>2018</td>\n",
              "      <td>1</td>\n",
              "      <td>1</td>\n",
              "      <td>0</td>\n",
              "    </tr>\n",
              "    <tr>\n",
              "      <th>1</th>\n",
              "      <td>7717bdc2-ea3e-e8ad-5d6b-178bd71c38b2</td>\n",
              "      <td>7956</td>\n",
              "      <td>Mobile</td>\n",
              "      <td>Android</td>\n",
              "      <td>HomeWebsite</td>\n",
              "      <td>2018</td>\n",
              "      <td>1</td>\n",
              "      <td>1</td>\n",
              "      <td>0</td>\n",
              "    </tr>\n",
              "    <tr>\n",
              "      <th>2</th>\n",
              "      <td>cb5b4b68-cc01-6db6-f54b-4a0f881301c5</td>\n",
              "      <td>5067</td>\n",
              "      <td>Mobile</td>\n",
              "      <td>iPhone</td>\n",
              "      <td>HomeWebsite</td>\n",
              "      <td>2018</td>\n",
              "      <td>1</td>\n",
              "      <td>1</td>\n",
              "      <td>0</td>\n",
              "    </tr>\n",
              "    <tr>\n",
              "      <th>3</th>\n",
              "      <td>5f74cef2-0d1e-b619-3564-0955a14e0985</td>\n",
              "      <td>6654</td>\n",
              "      <td>Mobile</td>\n",
              "      <td>iPhone</td>\n",
              "      <td>Google</td>\n",
              "      <td>2018</td>\n",
              "      <td>1</td>\n",
              "      <td>1</td>\n",
              "      <td>0</td>\n",
              "    </tr>\n",
              "    <tr>\n",
              "      <th>4</th>\n",
              "      <td>dba8f279-844e-eef6-73ac-22bd7d1353cc</td>\n",
              "      <td>6474</td>\n",
              "      <td>Mobile</td>\n",
              "      <td>iPad</td>\n",
              "      <td>Google</td>\n",
              "      <td>2018</td>\n",
              "      <td>1</td>\n",
              "      <td>1</td>\n",
              "      <td>0</td>\n",
              "    </tr>\n",
              "    <tr>\n",
              "      <th>5</th>\n",
              "      <td>1bce397f-9edd-6f75-40ea-408a27ddb0e8</td>\n",
              "      <td>6297</td>\n",
              "      <td>Mobile</td>\n",
              "      <td>Android</td>\n",
              "      <td>Other_PageReferer</td>\n",
              "      <td>2018</td>\n",
              "      <td>1</td>\n",
              "      <td>1</td>\n",
              "      <td>0</td>\n",
              "    </tr>\n",
              "    <tr>\n",
              "      <th>6</th>\n",
              "      <td>dba8f279-844e-eef6-73ac-22bd7d1353cc</td>\n",
              "      <td>6474</td>\n",
              "      <td>Mobile</td>\n",
              "      <td>iPad</td>\n",
              "      <td>Google</td>\n",
              "      <td>2018</td>\n",
              "      <td>1</td>\n",
              "      <td>1</td>\n",
              "      <td>0</td>\n",
              "    </tr>\n",
              "    <tr>\n",
              "      <th>7</th>\n",
              "      <td>7717bdc2-ea3e-e8ad-5d6b-178bd71c38b2</td>\n",
              "      <td>7956</td>\n",
              "      <td>Mobile</td>\n",
              "      <td>Android</td>\n",
              "      <td>HomeWebsite</td>\n",
              "      <td>2018</td>\n",
              "      <td>1</td>\n",
              "      <td>1</td>\n",
              "      <td>0</td>\n",
              "    </tr>\n",
              "    <tr>\n",
              "      <th>8</th>\n",
              "      <td>9794fe34-fb0f-4242-8a35-7610cb1e0ee8</td>\n",
              "      <td>9323</td>\n",
              "      <td>Mobile</td>\n",
              "      <td>iPad</td>\n",
              "      <td>Facebook</td>\n",
              "      <td>2018</td>\n",
              "      <td>1</td>\n",
              "      <td>1</td>\n",
              "      <td>0</td>\n",
              "    </tr>\n",
              "    <tr>\n",
              "      <th>9</th>\n",
              "      <td>812246ad-97a8-2a9d-457b-4b5bb521e20c</td>\n",
              "      <td>5764</td>\n",
              "      <td>Mobile</td>\n",
              "      <td>Android</td>\n",
              "      <td>Facebook</td>\n",
              "      <td>2018</td>\n",
              "      <td>1</td>\n",
              "      <td>1</td>\n",
              "      <td>0</td>\n",
              "    </tr>\n",
              "  </tbody>\n",
              "</table>\n",
              "</div>"
            ],
            "text/plain": [
              "                               userCode  project_id requestedDevice userAgent  \\\n",
              "0  7717bdc2-ea3e-e8ad-5d6b-178bd71c38b2        7956          Mobile   Android   \n",
              "1  7717bdc2-ea3e-e8ad-5d6b-178bd71c38b2        7956          Mobile   Android   \n",
              "2  cb5b4b68-cc01-6db6-f54b-4a0f881301c5        5067          Mobile    iPhone   \n",
              "3  5f74cef2-0d1e-b619-3564-0955a14e0985        6654          Mobile    iPhone   \n",
              "4  dba8f279-844e-eef6-73ac-22bd7d1353cc        6474          Mobile      iPad   \n",
              "5  1bce397f-9edd-6f75-40ea-408a27ddb0e8        6297          Mobile   Android   \n",
              "6  dba8f279-844e-eef6-73ac-22bd7d1353cc        6474          Mobile      iPad   \n",
              "7  7717bdc2-ea3e-e8ad-5d6b-178bd71c38b2        7956          Mobile   Android   \n",
              "8  9794fe34-fb0f-4242-8a35-7610cb1e0ee8        9323          Mobile      iPad   \n",
              "9  812246ad-97a8-2a9d-457b-4b5bb521e20c        5764          Mobile   Android   \n",
              "\n",
              "        pageReferrer  year  month  day  hour  \n",
              "0        HomeWebsite  2018      1    1     0  \n",
              "1        HomeWebsite  2018      1    1     0  \n",
              "2        HomeWebsite  2018      1    1     0  \n",
              "3             Google  2018      1    1     0  \n",
              "4             Google  2018      1    1     0  \n",
              "5  Other_PageReferer  2018      1    1     0  \n",
              "6             Google  2018      1    1     0  \n",
              "7        HomeWebsite  2018      1    1     0  \n",
              "8           Facebook  2018      1    1     0  \n",
              "9           Facebook  2018      1    1     0  "
            ]
          },
          "metadata": {
            "tags": []
          },
          "execution_count": 94
        }
      ]
    },
    {
      "metadata": {
        "id": "jS86FttuwIsZ",
        "colab_type": "text"
      },
      "cell_type": "markdown",
      "source": [
        "**.unique()** gives you an array of all possible values of a column in the dataframe. "
      ]
    },
    {
      "metadata": {
        "id": "sB_a-MCuwIsa",
        "colab_type": "code",
        "colab": {
          "base_uri": "https://localhost:8080/",
          "height": 51
        },
        "outputId": "c5d063dc-3115-49dc-e0ef-63210d6e0532"
      },
      "cell_type": "code",
      "source": [
        "df['userAgent'].unique()"
      ],
      "execution_count": 0,
      "outputs": [
        {
          "output_type": "execute_result",
          "data": {
            "text/plain": [
              "array(['Android', 'iPhone', 'iPad', 'Windows', 'Macintosh', 'Other_OS'],\n",
              "      dtype=object)"
            ]
          },
          "metadata": {
            "tags": []
          },
          "execution_count": 95
        }
      ]
    },
    {
      "metadata": {
        "id": "Q2XhrlW8wIse",
        "colab_type": "text"
      },
      "cell_type": "markdown",
      "source": [
        "Below is how you can modify the dataframe to only have the columns that you desire. "
      ]
    },
    {
      "metadata": {
        "id": "ySfCCuFzwIsh",
        "colab_type": "code",
        "colab": {
          "base_uri": "https://localhost:8080/",
          "height": 979
        },
        "outputId": "7249f1b6-cc9a-4027-fccb-912900f9e158"
      },
      "cell_type": "code",
      "source": [
        "df_b = df[['userCode','project_id']]\n",
        "df_b.head(30)"
      ],
      "execution_count": 0,
      "outputs": [
        {
          "output_type": "execute_result",
          "data": {
            "text/html": [
              "<div>\n",
              "<style scoped>\n",
              "    .dataframe tbody tr th:only-of-type {\n",
              "        vertical-align: middle;\n",
              "    }\n",
              "\n",
              "    .dataframe tbody tr th {\n",
              "        vertical-align: top;\n",
              "    }\n",
              "\n",
              "    .dataframe thead th {\n",
              "        text-align: right;\n",
              "    }\n",
              "</style>\n",
              "<table border=\"1\" class=\"dataframe\">\n",
              "  <thead>\n",
              "    <tr style=\"text-align: right;\">\n",
              "      <th></th>\n",
              "      <th>userCode</th>\n",
              "      <th>project_id</th>\n",
              "    </tr>\n",
              "  </thead>\n",
              "  <tbody>\n",
              "    <tr>\n",
              "      <th>0</th>\n",
              "      <td>7717bdc2-ea3e-e8ad-5d6b-178bd71c38b2</td>\n",
              "      <td>7956</td>\n",
              "    </tr>\n",
              "    <tr>\n",
              "      <th>1</th>\n",
              "      <td>7717bdc2-ea3e-e8ad-5d6b-178bd71c38b2</td>\n",
              "      <td>7956</td>\n",
              "    </tr>\n",
              "    <tr>\n",
              "      <th>2</th>\n",
              "      <td>cb5b4b68-cc01-6db6-f54b-4a0f881301c5</td>\n",
              "      <td>5067</td>\n",
              "    </tr>\n",
              "    <tr>\n",
              "      <th>3</th>\n",
              "      <td>5f74cef2-0d1e-b619-3564-0955a14e0985</td>\n",
              "      <td>6654</td>\n",
              "    </tr>\n",
              "    <tr>\n",
              "      <th>4</th>\n",
              "      <td>dba8f279-844e-eef6-73ac-22bd7d1353cc</td>\n",
              "      <td>6474</td>\n",
              "    </tr>\n",
              "    <tr>\n",
              "      <th>5</th>\n",
              "      <td>1bce397f-9edd-6f75-40ea-408a27ddb0e8</td>\n",
              "      <td>6297</td>\n",
              "    </tr>\n",
              "    <tr>\n",
              "      <th>6</th>\n",
              "      <td>dba8f279-844e-eef6-73ac-22bd7d1353cc</td>\n",
              "      <td>6474</td>\n",
              "    </tr>\n",
              "    <tr>\n",
              "      <th>7</th>\n",
              "      <td>7717bdc2-ea3e-e8ad-5d6b-178bd71c38b2</td>\n",
              "      <td>7956</td>\n",
              "    </tr>\n",
              "    <tr>\n",
              "      <th>8</th>\n",
              "      <td>9794fe34-fb0f-4242-8a35-7610cb1e0ee8</td>\n",
              "      <td>9323</td>\n",
              "    </tr>\n",
              "    <tr>\n",
              "      <th>9</th>\n",
              "      <td>812246ad-97a8-2a9d-457b-4b5bb521e20c</td>\n",
              "      <td>5764</td>\n",
              "    </tr>\n",
              "    <tr>\n",
              "      <th>10</th>\n",
              "      <td>9794fe34-fb0f-4242-8a35-7610cb1e0ee8</td>\n",
              "      <td>9323</td>\n",
              "    </tr>\n",
              "    <tr>\n",
              "      <th>11</th>\n",
              "      <td>aeda4133-61eb-07fd-a004-ca1fecb0aaa4</td>\n",
              "      <td>7847</td>\n",
              "    </tr>\n",
              "    <tr>\n",
              "      <th>12</th>\n",
              "      <td>5badf2de-4bc2-c66b-64fd-13184832dfa0</td>\n",
              "      <td>2560</td>\n",
              "    </tr>\n",
              "    <tr>\n",
              "      <th>13</th>\n",
              "      <td>aeda4133-61eb-07fd-a004-ca1fecb0aaa4</td>\n",
              "      <td>7847</td>\n",
              "    </tr>\n",
              "    <tr>\n",
              "      <th>14</th>\n",
              "      <td>67134749-f09c-747e-777c-59d7cba5e179</td>\n",
              "      <td>4201</td>\n",
              "    </tr>\n",
              "    <tr>\n",
              "      <th>15</th>\n",
              "      <td>a9edf492-d59f-874b-88ab-a729bacef361</td>\n",
              "      <td>3860</td>\n",
              "    </tr>\n",
              "    <tr>\n",
              "      <th>16</th>\n",
              "      <td>2ffd9643-61d1-aed9-3dbd-4e0bc502dd97</td>\n",
              "      <td>7564</td>\n",
              "    </tr>\n",
              "    <tr>\n",
              "      <th>17</th>\n",
              "      <td>39dba0c3-e628-75ce-2481-56ef8acfd987</td>\n",
              "      <td>4062</td>\n",
              "    </tr>\n",
              "    <tr>\n",
              "      <th>18</th>\n",
              "      <td>a601a987-c3a4-b9d7-4c59-e22eb3c64069</td>\n",
              "      <td>7440</td>\n",
              "    </tr>\n",
              "    <tr>\n",
              "      <th>19</th>\n",
              "      <td>a2fd4a4c-3b6d-e6f6-7bf4-843ced3f7ea3</td>\n",
              "      <td>7988</td>\n",
              "    </tr>\n",
              "    <tr>\n",
              "      <th>20</th>\n",
              "      <td>e02a9121-bf25-99ed-b952-83322aff365c</td>\n",
              "      <td>6427</td>\n",
              "    </tr>\n",
              "    <tr>\n",
              "      <th>21</th>\n",
              "      <td>1d7f261c-fb05-1de3-f632-c5cc823bc717</td>\n",
              "      <td>5764</td>\n",
              "    </tr>\n",
              "    <tr>\n",
              "      <th>22</th>\n",
              "      <td>d4acc017-cf9d-395e-3684-108e6bd195b0</td>\n",
              "      <td>5764</td>\n",
              "    </tr>\n",
              "    <tr>\n",
              "      <th>23</th>\n",
              "      <td>69ae47f2-874c-a4cc-8331-da565a2c3f55</td>\n",
              "      <td>7973</td>\n",
              "    </tr>\n",
              "    <tr>\n",
              "      <th>24</th>\n",
              "      <td>cf5ff490-c9d3-8ef3-7d22-42753c3289f9</td>\n",
              "      <td>9257</td>\n",
              "    </tr>\n",
              "    <tr>\n",
              "      <th>25</th>\n",
              "      <td>e1317300-cf15-d8d5-427e-5814c3c42253</td>\n",
              "      <td>7973</td>\n",
              "    </tr>\n",
              "    <tr>\n",
              "      <th>26</th>\n",
              "      <td>61419a27-ae7f-21a4-65c3-6602f2e51378</td>\n",
              "      <td>6550</td>\n",
              "    </tr>\n",
              "    <tr>\n",
              "      <th>27</th>\n",
              "      <td>cf5ff490-c9d3-8ef3-7d22-42753c3289f9</td>\n",
              "      <td>9257</td>\n",
              "    </tr>\n",
              "    <tr>\n",
              "      <th>28</th>\n",
              "      <td>91cfe952-7400-623e-9851-096dd8f63b4a</td>\n",
              "      <td>5856</td>\n",
              "    </tr>\n",
              "    <tr>\n",
              "      <th>29</th>\n",
              "      <td>c5483446-91f6-cf2d-5ea5-4d698cb0d08f</td>\n",
              "      <td>6251</td>\n",
              "    </tr>\n",
              "  </tbody>\n",
              "</table>\n",
              "</div>"
            ],
            "text/plain": [
              "                                userCode  project_id\n",
              "0   7717bdc2-ea3e-e8ad-5d6b-178bd71c38b2        7956\n",
              "1   7717bdc2-ea3e-e8ad-5d6b-178bd71c38b2        7956\n",
              "2   cb5b4b68-cc01-6db6-f54b-4a0f881301c5        5067\n",
              "3   5f74cef2-0d1e-b619-3564-0955a14e0985        6654\n",
              "4   dba8f279-844e-eef6-73ac-22bd7d1353cc        6474\n",
              "5   1bce397f-9edd-6f75-40ea-408a27ddb0e8        6297\n",
              "6   dba8f279-844e-eef6-73ac-22bd7d1353cc        6474\n",
              "7   7717bdc2-ea3e-e8ad-5d6b-178bd71c38b2        7956\n",
              "8   9794fe34-fb0f-4242-8a35-7610cb1e0ee8        9323\n",
              "9   812246ad-97a8-2a9d-457b-4b5bb521e20c        5764\n",
              "10  9794fe34-fb0f-4242-8a35-7610cb1e0ee8        9323\n",
              "11  aeda4133-61eb-07fd-a004-ca1fecb0aaa4        7847\n",
              "12  5badf2de-4bc2-c66b-64fd-13184832dfa0        2560\n",
              "13  aeda4133-61eb-07fd-a004-ca1fecb0aaa4        7847\n",
              "14  67134749-f09c-747e-777c-59d7cba5e179        4201\n",
              "15  a9edf492-d59f-874b-88ab-a729bacef361        3860\n",
              "16  2ffd9643-61d1-aed9-3dbd-4e0bc502dd97        7564\n",
              "17  39dba0c3-e628-75ce-2481-56ef8acfd987        4062\n",
              "18  a601a987-c3a4-b9d7-4c59-e22eb3c64069        7440\n",
              "19  a2fd4a4c-3b6d-e6f6-7bf4-843ced3f7ea3        7988\n",
              "20  e02a9121-bf25-99ed-b952-83322aff365c        6427\n",
              "21  1d7f261c-fb05-1de3-f632-c5cc823bc717        5764\n",
              "22  d4acc017-cf9d-395e-3684-108e6bd195b0        5764\n",
              "23  69ae47f2-874c-a4cc-8331-da565a2c3f55        7973\n",
              "24  cf5ff490-c9d3-8ef3-7d22-42753c3289f9        9257\n",
              "25  e1317300-cf15-d8d5-427e-5814c3c42253        7973\n",
              "26  61419a27-ae7f-21a4-65c3-6602f2e51378        6550\n",
              "27  cf5ff490-c9d3-8ef3-7d22-42753c3289f9        9257\n",
              "28  91cfe952-7400-623e-9851-096dd8f63b4a        5856\n",
              "29  c5483446-91f6-cf2d-5ea5-4d698cb0d08f        6251"
            ]
          },
          "metadata": {
            "tags": []
          },
          "execution_count": 96
        }
      ]
    },
    {
      "metadata": {
        "id": "Jx0Txq4_wIsm",
        "colab_type": "text"
      },
      "cell_type": "markdown",
      "source": [
        "\n",
        "\n",
        "Below is a list of useful pandas.dataframe attributes.\n",
        "\n",
        "dataframe**.shape** gives a tuple representing the size of the dataframe in the form (rows, columns)\n",
        "\n",
        "dataframe**.iloc[row][column]** provides the integer-location based indexing of a dataframe for selection(for index-based, use **loc** instead of **iloc**)\n",
        "\n",
        "dataframe**.at[row,column]** let you access the value at the specific location \n",
        "\n",
        "You can find out more about pandas [here](https://pandas.pydata.org/pandas-docs/stable/generated/pandas.DataFrame.html)\n"
      ]
    },
    {
      "metadata": {
        "id": "uGxS0Xh_wIsn",
        "colab_type": "code",
        "colab": {
          "base_uri": "https://localhost:8080/",
          "height": 102
        },
        "outputId": "d0560d7d-de50-4f64-ba4b-0fdcb0fcab55"
      },
      "cell_type": "code",
      "source": [
        "print(df_b.shape)\n",
        "print(df_b.iloc[0][1])\n",
        "\n",
        "#note that we can use the column name instead of integer-indexing too. \n",
        "#This is convenient if we ever manipulate our dataframe, which we likely will\n",
        "print(df_b.iloc[0]['userCode'])\n",
        "\n",
        "#Note that writing df_copy = df simple creates a reference to the same object.\n",
        "#If you do not want to modify your dataframe, use df.copy \n",
        "df_copy = df_b.copy(deep=True)\n",
        "df_copy.at[0,'userCode']= 'Dummy Text'\n",
        "print(df_copy.iloc[0]['userCode'])\n",
        "\n",
        "#the original dataframe remains the same\n",
        "print(df_b.iloc[0]['userCode'])"
      ],
      "execution_count": 0,
      "outputs": [
        {
          "output_type": "stream",
          "text": [
            "(1234579, 2)\n",
            "7956\n",
            "7717bdc2-ea3e-e8ad-5d6b-178bd71c38b2\n",
            "Dummy Text\n",
            "7717bdc2-ea3e-e8ad-5d6b-178bd71c38b2\n"
          ],
          "name": "stdout"
        }
      ]
    },
    {
      "metadata": {
        "id": "RvrzhiWdwIsu",
        "colab_type": "text"
      },
      "cell_type": "markdown",
      "source": [
        "### TO DO #1:  Warming Up (Sorting)\n",
        "Try sorting the dataframe by\n",
        "\n",
        "1) userCode\n",
        "\n",
        "2) userCode but descending\n",
        "\n",
        "3) userCode as the primary sort axis(ascending), project_id as the secondary sort axis(descending)\n",
        "\n",
        "Note1: Check the documentation for dataframe .sort_values() [here](https://pandas.pydata.org/pandas-docs/stable/generated/pandas.DataFrame.sort_values.html#pandas.DataFrame.sort_values).\n",
        "\n",
        "Note2: You may want to use .reset_index(drop = True) after sorting. Try it out and see what happens. "
      ]
    },
    {
      "metadata": {
        "id": "wAio29HXwIsu",
        "colab_type": "code",
        "colab": {}
      },
      "cell_type": "code",
      "source": [
        "df_copy = df_b.copy(deep=True)\n",
        "\n",
        "#manipulate df_copy, not df_b or df\n",
        "\n",
        "#Insert Your Code Here"
      ],
      "execution_count": 0,
      "outputs": []
    },
    {
      "metadata": {
        "id": "08dk30dKwIsw",
        "colab_type": "text"
      },
      "cell_type": "markdown",
      "source": [
        "There is also a process called **groupby**, which the [documentation](https://pandas.pydata.org/pandas-docs/stable/groupby.html) nicely explains with three words: split-apply-combine\n",
        "\n",
        "Below is one example of how you can use groupby to \n",
        "1) split by userCode\n",
        "2) apply the function 'count'\n",
        "3) combine the result back together"
      ]
    },
    {
      "metadata": {
        "id": "M-B7y4zbwIsy",
        "colab_type": "code",
        "colab": {
          "base_uri": "https://localhost:8080/",
          "height": 669
        },
        "outputId": "f9730cfb-8ac0-4902-d321-a1f5873aa362"
      },
      "cell_type": "code",
      "source": [
        "df_b = df_b.sort_values('userCode')\n",
        "df_b['num_browse'] = df_b.groupby('userCode').transform('count')\n",
        "df_b = df_b.reset_index()\n",
        "df_b.head(20)\n"
      ],
      "execution_count": 0,
      "outputs": [
        {
          "output_type": "execute_result",
          "data": {
            "text/html": [
              "<div>\n",
              "<style scoped>\n",
              "    .dataframe tbody tr th:only-of-type {\n",
              "        vertical-align: middle;\n",
              "    }\n",
              "\n",
              "    .dataframe tbody tr th {\n",
              "        vertical-align: top;\n",
              "    }\n",
              "\n",
              "    .dataframe thead th {\n",
              "        text-align: right;\n",
              "    }\n",
              "</style>\n",
              "<table border=\"1\" class=\"dataframe\">\n",
              "  <thead>\n",
              "    <tr style=\"text-align: right;\">\n",
              "      <th></th>\n",
              "      <th>index</th>\n",
              "      <th>userCode</th>\n",
              "      <th>project_id</th>\n",
              "      <th>num_browse</th>\n",
              "    </tr>\n",
              "  </thead>\n",
              "  <tbody>\n",
              "    <tr>\n",
              "      <th>0</th>\n",
              "      <td>847445</td>\n",
              "      <td>00005aba-5ebc-0821-f5a9-bacca40be125</td>\n",
              "      <td>5342</td>\n",
              "      <td>1</td>\n",
              "    </tr>\n",
              "    <tr>\n",
              "      <th>1</th>\n",
              "      <td>66594</td>\n",
              "      <td>0000bae7-6233-d7cc-2a6d-48aa70fe8ad4</td>\n",
              "      <td>5678</td>\n",
              "      <td>1</td>\n",
              "    </tr>\n",
              "    <tr>\n",
              "      <th>2</th>\n",
              "      <td>314280</td>\n",
              "      <td>0000c576-e929-19eb-615a-349ec3b4709b</td>\n",
              "      <td>6461</td>\n",
              "      <td>1</td>\n",
              "    </tr>\n",
              "    <tr>\n",
              "      <th>3</th>\n",
              "      <td>511353</td>\n",
              "      <td>0000d196-6385-80b8-661d-b7427042daa3</td>\n",
              "      <td>9040</td>\n",
              "      <td>1</td>\n",
              "    </tr>\n",
              "    <tr>\n",
              "      <th>4</th>\n",
              "      <td>57898</td>\n",
              "      <td>0000e1e2-f595-0ae7-860f-fcc07dcb116e</td>\n",
              "      <td>6709</td>\n",
              "      <td>2</td>\n",
              "    </tr>\n",
              "    <tr>\n",
              "      <th>5</th>\n",
              "      <td>58475</td>\n",
              "      <td>0000e1e2-f595-0ae7-860f-fcc07dcb116e</td>\n",
              "      <td>6712</td>\n",
              "      <td>2</td>\n",
              "    </tr>\n",
              "    <tr>\n",
              "      <th>6</th>\n",
              "      <td>533568</td>\n",
              "      <td>0000fa46-1f0b-9504-b568-43479d17620e</td>\n",
              "      <td>8829</td>\n",
              "      <td>6</td>\n",
              "    </tr>\n",
              "    <tr>\n",
              "      <th>7</th>\n",
              "      <td>533614</td>\n",
              "      <td>0000fa46-1f0b-9504-b568-43479d17620e</td>\n",
              "      <td>4703</td>\n",
              "      <td>6</td>\n",
              "    </tr>\n",
              "    <tr>\n",
              "      <th>8</th>\n",
              "      <td>533715</td>\n",
              "      <td>0000fa46-1f0b-9504-b568-43479d17620e</td>\n",
              "      <td>4703</td>\n",
              "      <td>6</td>\n",
              "    </tr>\n",
              "    <tr>\n",
              "      <th>9</th>\n",
              "      <td>533718</td>\n",
              "      <td>0000fa46-1f0b-9504-b568-43479d17620e</td>\n",
              "      <td>8829</td>\n",
              "      <td>6</td>\n",
              "    </tr>\n",
              "    <tr>\n",
              "      <th>10</th>\n",
              "      <td>536300</td>\n",
              "      <td>0000fa46-1f0b-9504-b568-43479d17620e</td>\n",
              "      <td>4184</td>\n",
              "      <td>6</td>\n",
              "    </tr>\n",
              "    <tr>\n",
              "      <th>11</th>\n",
              "      <td>533689</td>\n",
              "      <td>0000fa46-1f0b-9504-b568-43479d17620e</td>\n",
              "      <td>6577</td>\n",
              "      <td>6</td>\n",
              "    </tr>\n",
              "    <tr>\n",
              "      <th>12</th>\n",
              "      <td>750621</td>\n",
              "      <td>00011133-6093-88a6-98b8-de44b88170f3</td>\n",
              "      <td>6425</td>\n",
              "      <td>1</td>\n",
              "    </tr>\n",
              "    <tr>\n",
              "      <th>13</th>\n",
              "      <td>320008</td>\n",
              "      <td>00011607-0514-1c6c-9e93-30aca362f7e6</td>\n",
              "      <td>4210</td>\n",
              "      <td>1</td>\n",
              "    </tr>\n",
              "    <tr>\n",
              "      <th>14</th>\n",
              "      <td>127248</td>\n",
              "      <td>00015aac-868d-57da-d68a-1ff71b598380</td>\n",
              "      <td>8159</td>\n",
              "      <td>1</td>\n",
              "    </tr>\n",
              "    <tr>\n",
              "      <th>15</th>\n",
              "      <td>962969</td>\n",
              "      <td>00019a11-0aaa-2559-4feb-534724830d3e</td>\n",
              "      <td>9095</td>\n",
              "      <td>3</td>\n",
              "    </tr>\n",
              "    <tr>\n",
              "      <th>16</th>\n",
              "      <td>945651</td>\n",
              "      <td>00019a11-0aaa-2559-4feb-534724830d3e</td>\n",
              "      <td>5985</td>\n",
              "      <td>3</td>\n",
              "    </tr>\n",
              "    <tr>\n",
              "      <th>17</th>\n",
              "      <td>945689</td>\n",
              "      <td>00019a11-0aaa-2559-4feb-534724830d3e</td>\n",
              "      <td>8587</td>\n",
              "      <td>3</td>\n",
              "    </tr>\n",
              "    <tr>\n",
              "      <th>18</th>\n",
              "      <td>361796</td>\n",
              "      <td>0001eb13-0dbf-2a19-6a3f-893e17988350</td>\n",
              "      <td>5555</td>\n",
              "      <td>1</td>\n",
              "    </tr>\n",
              "    <tr>\n",
              "      <th>19</th>\n",
              "      <td>4083</td>\n",
              "      <td>0001f016-c997-6b0e-b46e-be885262f645</td>\n",
              "      <td>5858</td>\n",
              "      <td>1</td>\n",
              "    </tr>\n",
              "  </tbody>\n",
              "</table>\n",
              "</div>"
            ],
            "text/plain": [
              "     index                              userCode  project_id  num_browse\n",
              "0   847445  00005aba-5ebc-0821-f5a9-bacca40be125        5342           1\n",
              "1    66594  0000bae7-6233-d7cc-2a6d-48aa70fe8ad4        5678           1\n",
              "2   314280  0000c576-e929-19eb-615a-349ec3b4709b        6461           1\n",
              "3   511353  0000d196-6385-80b8-661d-b7427042daa3        9040           1\n",
              "4    57898  0000e1e2-f595-0ae7-860f-fcc07dcb116e        6709           2\n",
              "5    58475  0000e1e2-f595-0ae7-860f-fcc07dcb116e        6712           2\n",
              "6   533568  0000fa46-1f0b-9504-b568-43479d17620e        8829           6\n",
              "7   533614  0000fa46-1f0b-9504-b568-43479d17620e        4703           6\n",
              "8   533715  0000fa46-1f0b-9504-b568-43479d17620e        4703           6\n",
              "9   533718  0000fa46-1f0b-9504-b568-43479d17620e        8829           6\n",
              "10  536300  0000fa46-1f0b-9504-b568-43479d17620e        4184           6\n",
              "11  533689  0000fa46-1f0b-9504-b568-43479d17620e        6577           6\n",
              "12  750621  00011133-6093-88a6-98b8-de44b88170f3        6425           1\n",
              "13  320008  00011607-0514-1c6c-9e93-30aca362f7e6        4210           1\n",
              "14  127248  00015aac-868d-57da-d68a-1ff71b598380        8159           1\n",
              "15  962969  00019a11-0aaa-2559-4feb-534724830d3e        9095           3\n",
              "16  945651  00019a11-0aaa-2559-4feb-534724830d3e        5985           3\n",
              "17  945689  00019a11-0aaa-2559-4feb-534724830d3e        8587           3\n",
              "18  361796  0001eb13-0dbf-2a19-6a3f-893e17988350        5555           1\n",
              "19    4083  0001f016-c997-6b0e-b46e-be885262f645        5858           1"
            ]
          },
          "metadata": {
            "tags": []
          },
          "execution_count": 99
        }
      ]
    },
    {
      "metadata": {
        "id": "TtJmM32-wIs2",
        "colab_type": "text"
      },
      "cell_type": "markdown",
      "source": [
        "## Data Exploration and Preprocessing\n",
        "\n",
        "---\n",
        "\n",
        "\n",
        "### TO DO #2: Find Top Viewers\n",
        "\n",
        "Find out the maximum number of times that a single browsed our log. \n",
        "\n",
        "Hint: Utilize num_browse, dataframe.drop_duplicates, and .sort_values()\n",
        "\n",
        "Answer Check: The top viewer is 'de89bac5-57c6-ecfb-184d-cc4e973c31ac'. If you get this user as the top viewer, your result is correct. "
      ]
    },
    {
      "metadata": {
        "id": "qhlBdGd8wIs4",
        "colab_type": "code",
        "colab": {
          "base_uri": "https://localhost:8080/",
          "height": 669
        },
        "outputId": "a1a177b4-9fbe-4534-d70a-79bf836c97b6"
      },
      "cell_type": "code",
      "source": [
        "#Insert Your Code Here"
      ],
      "execution_count": 0,
      "outputs": [
        {
          "output_type": "execute_result",
          "data": {
            "text/html": [
              "<div>\n",
              "<style scoped>\n",
              "    .dataframe tbody tr th:only-of-type {\n",
              "        vertical-align: middle;\n",
              "    }\n",
              "\n",
              "    .dataframe tbody tr th {\n",
              "        vertical-align: top;\n",
              "    }\n",
              "\n",
              "    .dataframe thead th {\n",
              "        text-align: right;\n",
              "    }\n",
              "</style>\n",
              "<table border=\"1\" class=\"dataframe\">\n",
              "  <thead>\n",
              "    <tr style=\"text-align: right;\">\n",
              "      <th></th>\n",
              "      <th>userCode</th>\n",
              "      <th>num_browse</th>\n",
              "    </tr>\n",
              "  </thead>\n",
              "  <tbody>\n",
              "    <tr>\n",
              "      <th>1077297</th>\n",
              "      <td>de89bac5-57c6-ecfb-184d-cc4e973c31ac</td>\n",
              "      <td>24308</td>\n",
              "    </tr>\n",
              "    <tr>\n",
              "      <th>233976</th>\n",
              "      <td>31bb9bf0-8ad5-3e50-f334-e6c7de89bac5</td>\n",
              "      <td>8238</td>\n",
              "    </tr>\n",
              "    <tr>\n",
              "      <th>304068</th>\n",
              "      <td>3f0b3f64-468d-8411-efee-debb3facd532</td>\n",
              "      <td>1641</td>\n",
              "    </tr>\n",
              "    <tr>\n",
              "      <th>1152955</th>\n",
              "      <td>eec0a125-d5ab-f692-c501-4713c35c756d</td>\n",
              "      <td>1533</td>\n",
              "    </tr>\n",
              "    <tr>\n",
              "      <th>875884</th>\n",
              "      <td>b883abba-dc3e-f30d-a571-98fffeffe88f</td>\n",
              "      <td>1362</td>\n",
              "    </tr>\n",
              "    <tr>\n",
              "      <th>210487</th>\n",
              "      <td>2d023fed-0cad-0f48-c7c8-77ce40e36d0f</td>\n",
              "      <td>1261</td>\n",
              "    </tr>\n",
              "    <tr>\n",
              "      <th>726185</th>\n",
              "      <td>987779b7-042c-ddea-e43c-5132045fe84e</td>\n",
              "      <td>1138</td>\n",
              "    </tr>\n",
              "    <tr>\n",
              "      <th>433255</th>\n",
              "      <td>5a5c8ed0-dee9-beff-0a91-4c65d31e3744</td>\n",
              "      <td>954</td>\n",
              "    </tr>\n",
              "    <tr>\n",
              "      <th>652917</th>\n",
              "      <td>894a4600-3006-06c5-bff9-cd37a3618bc1</td>\n",
              "      <td>806</td>\n",
              "    </tr>\n",
              "    <tr>\n",
              "      <th>546549</th>\n",
              "      <td>72bd11b1-1880-2468-a691-78a33f0b3f64</td>\n",
              "      <td>790</td>\n",
              "    </tr>\n",
              "    <tr>\n",
              "      <th>1102271</th>\n",
              "      <td>e400406a-b73d-3e78-d37d-53fcddebccaf</td>\n",
              "      <td>710</td>\n",
              "    </tr>\n",
              "    <tr>\n",
              "      <th>123333</th>\n",
              "      <td>1aecd8e5-f02b-ba5c-e865-49da43ad8f22</td>\n",
              "      <td>636</td>\n",
              "    </tr>\n",
              "    <tr>\n",
              "      <th>13001</th>\n",
              "      <td>02e5a154-8e62-a827-db93-bf15c35da2a5</td>\n",
              "      <td>545</td>\n",
              "    </tr>\n",
              "    <tr>\n",
              "      <th>620662</th>\n",
              "      <td>8258ff86-189d-a4b9-c9f4-105d495167f2</td>\n",
              "      <td>536</td>\n",
              "    </tr>\n",
              "    <tr>\n",
              "      <th>220802</th>\n",
              "      <td>2f3f0973-0fad-4d83-39b6-d55662c9dcbc</td>\n",
              "      <td>472</td>\n",
              "    </tr>\n",
              "    <tr>\n",
              "      <th>293933</th>\n",
              "      <td>3d3b8010-60e7-f02b-2ba7-b3e96814cd43</td>\n",
              "      <td>453</td>\n",
              "    </tr>\n",
              "    <tr>\n",
              "      <th>385662</th>\n",
              "      <td>504dc86d-0a80-b14c-8c1c-d25a32e4f699</td>\n",
              "      <td>438</td>\n",
              "    </tr>\n",
              "    <tr>\n",
              "      <th>1100077</th>\n",
              "      <td>e392c4d3-5eac-770e-3896-53800589d39d</td>\n",
              "      <td>380</td>\n",
              "    </tr>\n",
              "    <tr>\n",
              "      <th>1052488</th>\n",
              "      <td>de72fec5-e0c8-2a3c-78ae-eb033b3180b7</td>\n",
              "      <td>338</td>\n",
              "    </tr>\n",
              "    <tr>\n",
              "      <th>366243</th>\n",
              "      <td>4c42709a-19f6-056a-b504-1e402dbca126</td>\n",
              "      <td>335</td>\n",
              "    </tr>\n",
              "  </tbody>\n",
              "</table>\n",
              "</div>"
            ],
            "text/plain": [
              "                                     userCode  num_browse\n",
              "1077297  de89bac5-57c6-ecfb-184d-cc4e973c31ac       24308\n",
              "233976   31bb9bf0-8ad5-3e50-f334-e6c7de89bac5        8238\n",
              "304068   3f0b3f64-468d-8411-efee-debb3facd532        1641\n",
              "1152955  eec0a125-d5ab-f692-c501-4713c35c756d        1533\n",
              "875884   b883abba-dc3e-f30d-a571-98fffeffe88f        1362\n",
              "210487   2d023fed-0cad-0f48-c7c8-77ce40e36d0f        1261\n",
              "726185   987779b7-042c-ddea-e43c-5132045fe84e        1138\n",
              "433255   5a5c8ed0-dee9-beff-0a91-4c65d31e3744         954\n",
              "652917   894a4600-3006-06c5-bff9-cd37a3618bc1         806\n",
              "546549   72bd11b1-1880-2468-a691-78a33f0b3f64         790\n",
              "1102271  e400406a-b73d-3e78-d37d-53fcddebccaf         710\n",
              "123333   1aecd8e5-f02b-ba5c-e865-49da43ad8f22         636\n",
              "13001    02e5a154-8e62-a827-db93-bf15c35da2a5         545\n",
              "620662   8258ff86-189d-a4b9-c9f4-105d495167f2         536\n",
              "220802   2f3f0973-0fad-4d83-39b6-d55662c9dcbc         472\n",
              "293933   3d3b8010-60e7-f02b-2ba7-b3e96814cd43         453\n",
              "385662   504dc86d-0a80-b14c-8c1c-d25a32e4f699         438\n",
              "1100077  e392c4d3-5eac-770e-3896-53800589d39d         380\n",
              "1052488  de72fec5-e0c8-2a3c-78ae-eb033b3180b7         338\n",
              "366243   4c42709a-19f6-056a-b504-1e402dbca126         335"
            ]
          },
          "metadata": {
            "tags": []
          },
          "execution_count": 100
        }
      ]
    },
    {
      "metadata": {
        "id": "HSPxV4OTwIs6",
        "colab_type": "text"
      },
      "cell_type": "markdown",
      "source": [
        "We can see that some users have browsed an absurd number of projects. \n",
        "\n",
        "It is up to your discretion as to whether you want to train your model with these users, as some might be bots and do not represent the user behaviour that we are trying to model.\n",
        "\n",
        "A simple way to screen out users who have viewed too many projects is as follow:"
      ]
    },
    {
      "metadata": {
        "id": "vUsFfwo_wIs8",
        "colab_type": "code",
        "colab": {
          "base_uri": "https://localhost:8080/",
          "height": 669
        },
        "outputId": "fc135be7-586d-4b26-f939-33d53daae50a"
      },
      "cell_type": "code",
      "source": [
        "df_b[df_b.num_browse<50].head(20)"
      ],
      "execution_count": 0,
      "outputs": [
        {
          "output_type": "execute_result",
          "data": {
            "text/html": [
              "<div>\n",
              "<style scoped>\n",
              "    .dataframe tbody tr th:only-of-type {\n",
              "        vertical-align: middle;\n",
              "    }\n",
              "\n",
              "    .dataframe tbody tr th {\n",
              "        vertical-align: top;\n",
              "    }\n",
              "\n",
              "    .dataframe thead th {\n",
              "        text-align: right;\n",
              "    }\n",
              "</style>\n",
              "<table border=\"1\" class=\"dataframe\">\n",
              "  <thead>\n",
              "    <tr style=\"text-align: right;\">\n",
              "      <th></th>\n",
              "      <th>userCode</th>\n",
              "      <th>num_browse</th>\n",
              "    </tr>\n",
              "  </thead>\n",
              "  <tbody>\n",
              "    <tr>\n",
              "      <th>447543</th>\n",
              "      <td>5d5558eb-2bd5-ecff-5ba4-f756af3b0c41</td>\n",
              "      <td>49</td>\n",
              "    </tr>\n",
              "    <tr>\n",
              "      <th>139078</th>\n",
              "      <td>1e337972-3f0f-8583-3c26-83b3ec3d0a20</td>\n",
              "      <td>49</td>\n",
              "    </tr>\n",
              "    <tr>\n",
              "      <th>58951</th>\n",
              "      <td>0cfa6658-0234-ab1d-a919-a89a72a33747</td>\n",
              "      <td>49</td>\n",
              "    </tr>\n",
              "    <tr>\n",
              "      <th>1167889</th>\n",
              "      <td>f1bcd2e3-eed6-b5ca-d8e8-b433cf8db704</td>\n",
              "      <td>49</td>\n",
              "    </tr>\n",
              "    <tr>\n",
              "      <th>647760</th>\n",
              "      <td>882cbb2a-8c24-4624-74f6-252006893e0f</td>\n",
              "      <td>49</td>\n",
              "    </tr>\n",
              "    <tr>\n",
              "      <th>288922</th>\n",
              "      <td>3c48e9b3-daa0-9292-77b9-28f2646c1b74</td>\n",
              "      <td>49</td>\n",
              "    </tr>\n",
              "    <tr>\n",
              "      <th>459696</th>\n",
              "      <td>60163bf9-e667-470c-e124-86b9fd7da9f7</td>\n",
              "      <td>49</td>\n",
              "    </tr>\n",
              "    <tr>\n",
              "      <th>1117962</th>\n",
              "      <td>e716fb5e-516c-e18d-72a2-b430d80c3097</td>\n",
              "      <td>49</td>\n",
              "    </tr>\n",
              "    <tr>\n",
              "      <th>444850</th>\n",
              "      <td>5cafc0f4-afcc-6a91-d84f-0e1e7f023c13</td>\n",
              "      <td>49</td>\n",
              "    </tr>\n",
              "    <tr>\n",
              "      <th>109837</th>\n",
              "      <td>17f0dad0-a448-88ba-a8b8-5e3b82374cf7</td>\n",
              "      <td>49</td>\n",
              "    </tr>\n",
              "    <tr>\n",
              "      <th>138343</th>\n",
              "      <td>1e0bbfba-dc94-7f64-3ee5-8d059ea6d87f</td>\n",
              "      <td>49</td>\n",
              "    </tr>\n",
              "    <tr>\n",
              "      <th>606452</th>\n",
              "      <td>7f8067fe-f1b5-aab2-ded8-7d5319159e40</td>\n",
              "      <td>49</td>\n",
              "    </tr>\n",
              "    <tr>\n",
              "      <th>15833</th>\n",
              "      <td>0369c5ff-0bea-ad58-776c-fee3fd58ece1</td>\n",
              "      <td>49</td>\n",
              "    </tr>\n",
              "    <tr>\n",
              "      <th>14359</th>\n",
              "      <td>0318c873-531e-e512-2f92-443d5f460cee</td>\n",
              "      <td>49</td>\n",
              "    </tr>\n",
              "    <tr>\n",
              "      <th>348897</th>\n",
              "      <td>4883f6f1-4c74-bbb4-a6a9-47d46ef2c463</td>\n",
              "      <td>49</td>\n",
              "    </tr>\n",
              "    <tr>\n",
              "      <th>612476</th>\n",
              "      <td>80bdd3be-b3c1-fcb8-d8e9-7dd3049f2151</td>\n",
              "      <td>49</td>\n",
              "    </tr>\n",
              "    <tr>\n",
              "      <th>411708</th>\n",
              "      <td>5609b626-9e2a-0f5a-2526-75c0d083aa8e</td>\n",
              "      <td>49</td>\n",
              "    </tr>\n",
              "    <tr>\n",
              "      <th>958071</th>\n",
              "      <td>ca65b2df-6990-f57c-3bf5-6eb21d841249</td>\n",
              "      <td>49</td>\n",
              "    </tr>\n",
              "    <tr>\n",
              "      <th>437780</th>\n",
              "      <td>5b4d64d4-9554-9e90-b263-44fa4ec1ccaa</td>\n",
              "      <td>49</td>\n",
              "    </tr>\n",
              "    <tr>\n",
              "      <th>1087924</th>\n",
              "      <td>e0da6282-ba32-373e-8ea9-bd7ceb16d72a</td>\n",
              "      <td>49</td>\n",
              "    </tr>\n",
              "  </tbody>\n",
              "</table>\n",
              "</div>"
            ],
            "text/plain": [
              "                                     userCode  num_browse\n",
              "447543   5d5558eb-2bd5-ecff-5ba4-f756af3b0c41          49\n",
              "139078   1e337972-3f0f-8583-3c26-83b3ec3d0a20          49\n",
              "58951    0cfa6658-0234-ab1d-a919-a89a72a33747          49\n",
              "1167889  f1bcd2e3-eed6-b5ca-d8e8-b433cf8db704          49\n",
              "647760   882cbb2a-8c24-4624-74f6-252006893e0f          49\n",
              "288922   3c48e9b3-daa0-9292-77b9-28f2646c1b74          49\n",
              "459696   60163bf9-e667-470c-e124-86b9fd7da9f7          49\n",
              "1117962  e716fb5e-516c-e18d-72a2-b430d80c3097          49\n",
              "444850   5cafc0f4-afcc-6a91-d84f-0e1e7f023c13          49\n",
              "109837   17f0dad0-a448-88ba-a8b8-5e3b82374cf7          49\n",
              "138343   1e0bbfba-dc94-7f64-3ee5-8d059ea6d87f          49\n",
              "606452   7f8067fe-f1b5-aab2-ded8-7d5319159e40          49\n",
              "15833    0369c5ff-0bea-ad58-776c-fee3fd58ece1          49\n",
              "14359    0318c873-531e-e512-2f92-443d5f460cee          49\n",
              "348897   4883f6f1-4c74-bbb4-a6a9-47d46ef2c463          49\n",
              "612476   80bdd3be-b3c1-fcb8-d8e9-7dd3049f2151          49\n",
              "411708   5609b626-9e2a-0f5a-2526-75c0d083aa8e          49\n",
              "958071   ca65b2df-6990-f57c-3bf5-6eb21d841249          49\n",
              "437780   5b4d64d4-9554-9e90-b263-44fa4ec1ccaa          49\n",
              "1087924  e0da6282-ba32-373e-8ea9-bd7ceb16d72a          49"
            ]
          },
          "metadata": {
            "tags": []
          },
          "execution_count": 101
        }
      ]
    },
    {
      "metadata": {
        "id": "OhZtFBYUwIs-",
        "colab_type": "text"
      },
      "cell_type": "markdown",
      "source": [
        "However, this way of screening might not be what we want. A user that browse a project everyday will have browsed ~60 projects by the end of two months, whereas a user who have browsed ~60 projects within a minute will most likely be a bot(or is not paying attention to any of the content of the page, in which the user should be screened out anyway)"
      ]
    },
    {
      "metadata": {
        "id": "VzgAJZ6QwItC",
        "colab_type": "text"
      },
      "cell_type": "markdown",
      "source": [
        "### TO DO #3: Write Your Own Data Preprocessing Function\n",
        "Preprocess your data. Please keep all the original columns, but feel free to add more. "
      ]
    },
    {
      "metadata": {
        "id": "ybm4aQcSwItC",
        "colab_type": "code",
        "colab": {}
      },
      "cell_type": "code",
      "source": [
        "def preprocess(dataframe):\n",
        "    \n",
        "    #Insert your code here\n",
        "    return dataframe\n",
        "\n",
        "df = pandas.read_csv('https://raw.githubusercontent.com/PanthonImem/Content-Based-Lab-Notebook/master/userLog_201801_201802_for_participants.csv', sep = ';')\n",
        "df = preprocess(df) "
      ],
      "execution_count": 0,
      "outputs": []
    },
    {
      "metadata": {
        "id": "VSvemnp0wItF",
        "colab_type": "text"
      },
      "cell_type": "markdown",
      "source": [
        "## Splitting Training-Testing Data set\n",
        "---"
      ]
    },
    {
      "metadata": {
        "id": "HXQpriXLwItG",
        "colab_type": "text"
      },
      "cell_type": "markdown",
      "source": [
        "In order to evaluate your model, you should not train your model with all the data you have, but rather split a part specifically for testing. Whether you want to split by date or not will depend on your preference.\n",
        "\n",
        "Below is an example of how you can split your data by date."
      ]
    },
    {
      "metadata": {
        "id": "CD4ExVOhwItI",
        "colab_type": "code",
        "colab": {}
      },
      "cell_type": "code",
      "source": [
        "import datetime\n",
        "#this line takes a while, as we'd be processing 1,000,000++ rows\n",
        "df['date'] = df.apply(lambda row : datetime.datetime(row['year'], row['month'], row['day'], row['hour']).date(), axis=1)\n",
        "df = df[['userCode', 'project_id','date']]\n",
        "test_date = datetime.date(2018,2,14)\n",
        "df_train = df[df.date<test_date]\n",
        "df_test = df[df.date>=test_date]\n",
        "\n",
        "df_test.head(15)\n",
        "\n",
        "df = df_train\n"
      ],
      "execution_count": 0,
      "outputs": []
    },
    {
      "metadata": {
        "id": "S1aUNTYDwItM",
        "colab_type": "text"
      },
      "cell_type": "markdown",
      "source": [
        "## English and Thai Word Extraction\n",
        "---\n",
        "While we have a considerable amount of features explicitly stored in our data file, a significant amount of content can be mined from the textual description of each item. Take an example of project number 1698\n",
        "\n",
        "1698: คอนโดมิเนียมหรูบนชายหาดส่วนตัว บรรยากาศเงียบสงบ ห้องชุดริมทะเล พร้อมสระว่ายน้ำส่วนตัว และระเบียงโค้งใส เชื่อมความต่อเนื่องกับทะเลสีครามภายนอกที่อยู่ห่างเพียง 30 เมตร ตกแต่งเฟอร์นิเจอร์ครบ\n",
        "\n",
        "From the description, we can find out that the project is 1) a condominium 2) has a swimming pool 3) is near a beach 4) has a balcony 5) comes with furniture\n",
        "\n",
        "Unfortunately, words from descriptions in Thai are harder to extract since they are not space-separated like english. \n",
        "\n",
        "In order to extract these features, we will want to extract each word from the text chunk first."
      ]
    },
    {
      "metadata": {
        "id": "X4qFHQwpwItP",
        "colab_type": "text"
      },
      "cell_type": "markdown",
      "source": [
        "We will start by using a python library called **pythainlp**."
      ]
    },
    {
      "metadata": {
        "id": "JfW3-_RxwItP",
        "colab_type": "code",
        "colab": {
          "base_uri": "https://localhost:8080/",
          "height": 238
        },
        "outputId": "d79eb05d-1927-4da3-c160-09dc9019744b"
      },
      "cell_type": "code",
      "source": [
        "!pip3 install pythainlp\n",
        "!pip3 install stop_words\n",
        "from pythainlp import word_tokenize\n",
        "from pythainlp.corpus.newthaiword import get_data \n",
        "from pythainlp.corpus import alphabet\n",
        "from pythainlp.corpus import stopwords\n",
        "from stop_words import get_stop_words\n",
        "import string"
      ],
      "execution_count": 0,
      "outputs": [
        {
          "output_type": "stream",
          "text": [
            "Requirement already satisfied: pythainlp in /usr/local/lib/python3.6/dist-packages (1.6.0.7)\r\n",
            "Requirement already satisfied: pytz in /usr/local/lib/python3.6/dist-packages (from pythainlp) (2018.5)\r\n",
            "Requirement already satisfied: marisa-trie<=0.7.4 in /usr/local/lib/python3.6/dist-packages (from pythainlp) (0.7.4)\r\n",
            "Requirement already satisfied: dill in /usr/local/lib/python3.6/dist-packages (from pythainlp) (0.2.8.2)\r\n",
            "Requirement already satisfied: six in /usr/local/lib/python3.6/dist-packages (from pythainlp) (1.11.0)\r\n",
            "Requirement already satisfied: nltk>=3.2.2 in /usr/local/lib/python3.6/dist-packages (from pythainlp) (3.2.5)\n",
            "Requirement already satisfied: future>=0.16.0 in /usr/local/lib/python3.6/dist-packages (from pythainlp) (0.16.0)\n",
            "Requirement already satisfied: requests in /usr/local/lib/python3.6/dist-packages (from pythainlp) (2.18.4)\n",
            "Requirement already satisfied: chardet<3.1.0,>=3.0.2 in /usr/local/lib/python3.6/dist-packages (from requests->pythainlp) (3.0.4)\n",
            "Requirement already satisfied: idna<2.7,>=2.5 in /usr/local/lib/python3.6/dist-packages (from requests->pythainlp) (2.6)\n",
            "Requirement already satisfied: certifi>=2017.4.17 in /usr/local/lib/python3.6/dist-packages (from requests->pythainlp) (2018.4.16)\n",
            "Requirement already satisfied: urllib3<1.23,>=1.21.1 in /usr/local/lib/python3.6/dist-packages (from requests->pythainlp) (1.22)\n",
            "Requirement already satisfied: stop_words in /usr/local/lib/python3.6/dist-packages (2015.2.23.1)\n"
          ],
          "name": "stdout"
        }
      ]
    },
    {
      "metadata": {
        "id": "UqOE3mkVwItU",
        "colab_type": "text"
      },
      "cell_type": "markdown",
      "source": [
        "Before we split the string into words, we should remove all punctuations first. \n",
        "The string of all punctuations can be obtained using string.punctuation"
      ]
    },
    {
      "metadata": {
        "id": "pRn68ztNwItU",
        "colab_type": "code",
        "colab": {
          "base_uri": "https://localhost:8080/",
          "height": 54
        },
        "outputId": "e5e21567-8e16-4d7c-fb9b-6275b8169634"
      },
      "cell_type": "code",
      "source": [
        "text2 = \"คอนโดมิเนียมหรูบนชายหาดส่วนตัว, บรรยากาศเงียบสงบ, ห้องชุดริมทะเล พร้อมสระว่ายน้ำส่วนตัว และระเบียงโค้งใส เชื่อมความต่อเนื่องกับทะเลสีครามภายนอกที่อยู่ห่างเพียง 30 เมตร ตกแต่งเฟอร์นิเจอร์ครบ\"\n",
        "\n",
        "text = \"\"\n",
        "for c in text2:\n",
        "    if c not in string.punctuation:\n",
        "        text = text+c\n",
        "    else:\n",
        "        text = text+\" \"\n",
        "print(text)"
      ],
      "execution_count": 0,
      "outputs": [
        {
          "output_type": "stream",
          "text": [
            "คอนโดมิเนียมหรูบนชายหาดส่วนตัว  บรรยากาศเงียบสงบ  ห้องชุดริมทะเล พร้อมสระว่ายน้ำส่วนตัว และระเบียงโค้งใส เชื่อมความต่อเนื่องกับทะเลสีครามภายนอกที่อยู่ห่างเพียง 30 เมตร ตกแต่งเฟอร์นิเจอร์ครบ\n"
          ],
          "name": "stdout"
        }
      ]
    },
    {
      "metadata": {
        "id": "f0CaZqVowItY",
        "colab_type": "text"
      },
      "cell_type": "markdown",
      "source": [
        "Now we will split the text chunk into a list of words using word_tokenize from Pythainlp."
      ]
    },
    {
      "metadata": {
        "id": "XhsW2i4owItY",
        "colab_type": "code",
        "colab": {
          "base_uri": "https://localhost:8080/",
          "height": 54
        },
        "outputId": "cd45e3f7-8861-4fec-8747-deb1856cdc91"
      },
      "cell_type": "code",
      "source": [
        "#newmm stands for Maximum Matching algorithm, you can try a different algorithm such as longest matching\n",
        "tokens = word_tokenize(text, engine='newmm')\n",
        "\n",
        "print(tokens)"
      ],
      "execution_count": 0,
      "outputs": [
        {
          "output_type": "stream",
          "text": [
            "['คอนโดมิเนียม', 'หรู', 'บน', 'ชายหาด', 'ส่วนตัว', '  ', 'บรรยากาศ', 'เงียบสงบ', '  ', 'ห้องชุด', 'ริมทะเล', ' ', 'พร้อม', 'สระว่ายน้ำ', 'ส่วนตัว', ' ', 'และ', 'ระเบียง', 'โค้ง', 'ใส', ' ', 'เชื่อม', 'ความต่อเนื่อง', 'กับ', 'ทะเล', 'สี', 'คราม', 'ภายนอก', 'ที่อยู่', 'ห่าง', 'เพียง', ' ', '30', ' ', 'เมตร', ' ', 'ตกแต่ง', 'เฟอร์นิเจอร์', 'ครบ']\n"
          ],
          "name": "stdout"
        }
      ]
    },
    {
      "metadata": {
        "id": "vyhTsqVewItb",
        "colab_type": "text"
      },
      "cell_type": "markdown",
      "source": [
        "Note that we have a list of thai words now. However, since we will be using these words as features, some words such as 'และ' or 'กับ' clearly does not belong here. We call these words **stopwords**. Luckily, pythainlp has a list of stopwords that we can use without having to create one ourselves. Let's have a look at our stopwords. "
      ]
    },
    {
      "metadata": {
        "id": "tfH4SOHbwItc",
        "colab_type": "code",
        "colab": {
          "base_uri": "https://localhost:8080/",
          "height": 54
        },
        "outputId": "7fad976a-cb74-4ba2-e4c2-4cf5ef109441"
      },
      "cell_type": "code",
      "source": [
        "words = stopwords.words('thai')\n",
        "print(words)"
      ],
      "execution_count": 0,
      "outputs": [
        {
          "output_type": "stream",
          "text": [
            "['\\ufeffนี้', 'นํา', 'นั้น', 'นัก', 'นอกจาก', 'ทุก', 'ที่สุด', 'ที่', 'ทําให้', 'ทํา', 'ทาง', 'ทั้งนี้', 'ดัง', 'ซึ่ง', 'ช่วง', 'จาก', 'จัด', 'จะ', 'คือ', 'ความ', 'ครั้ง', 'คง', 'ขึ้น', 'ของ', 'ขอ', 'รับ', 'ระหว่าง', 'รวม', 'ยัง', 'มี', 'มาก', 'มา', 'พร้อม', 'พบ', 'ผ่าน', 'ผล', 'บาง', 'น่า', 'เปิดเผย', 'เปิด', 'เนื่องจาก', 'เดียวกัน', 'เดียว', 'เช่น', 'เฉพาะ', 'เข้า', 'ถ้า', 'ถูก', 'ถึง', 'ต้อง', 'ต่างๆ', 'ต่าง', 'ต่อ', 'ตาม', 'ตั้งแต่', 'ตั้ง', 'ด้าน', 'ด้วย', 'อีก', 'อาจ', 'ออก', 'อย่าง', 'อะไร', 'อยู่', 'อยาก', 'หาก', 'หลาย', 'หลังจาก', 'แต่', 'เอง', 'เห็น', 'เลย', 'เริ่ม', 'เรา', 'เมื่อ', 'เพื่อ', 'เพราะ', 'เป็นการ', 'เป็น', 'หลัง', 'หรือ', 'หนึ่ง', 'ส่วน', 'ส่ง', 'สุด', 'สําหรับ', 'ว่า', 'ลง', 'ร่วม', 'ราย', 'ขณะ', 'ก่อน', 'ก็', 'การ', 'กับ', 'กัน', 'กว่า', 'กล่าว', 'จึง', 'ไว้', 'ไป', 'ได้', 'ให้', 'ใน', 'โดย', 'แห่ง', 'แล้ว', 'และ', 'แรก', 'แบบ', 'ๆ', 'ทั้ง', 'วัน', 'เขา', 'เคย', 'ไม่', 'อยาก', 'เกิน', 'เกินๆ', 'เกี่ยวกัน', 'เกี่ยวกับ', 'เกี่ยวข้อง', 'เกี่ยวเนื่อง', 'เกี่ยวๆ', 'เกือบ', 'เกือบจะ', 'เกือบๆ', 'แก', 'แก่', 'แก้ไข', 'ใกล้', 'ใกล้ๆ', 'ไกล', 'ไกลๆ', 'ขณะเดียวกัน', 'ขณะใด', 'ขณะใดๆ', 'ขณะที่', 'ขณะนั้น', 'ขณะนี้', 'ขณะหนึ่ง', 'ขวาง', 'ขวางๆ', 'ขั้น', 'ใคร', 'ใคร่', 'ใคร่จะ', 'ใครๆ', 'ง่าย', 'ง่ายๆ', 'ไง', 'จง', 'จด', 'จน', 'จนกระทั่ง', 'จนกว่า', 'จนขณะนี้', 'จนตลอด', 'จนถึง', 'จนทั่ว', 'จนบัดนี้', 'จนเมื่อ', 'จนแม้', 'จนแม้น', 'จรด', 'จรดกับ', 'จริง', 'จริงจัง', 'จริงๆ', 'จริงๆจังๆ', 'จวน', 'จวนจะ', 'จวนเจียน', 'จวบ', 'ซึ่งก็', 'ซึ่งก็คือ', 'ซึ่งกัน', 'ซึ่งกันและกัน', 'ซึ่งได้แก่', 'ซึ่งๆ', 'ณ', 'ด้วย', 'ด้วยกัน', 'ด้วยเช่นกัน', 'ด้วยที่', 'ด้วยประการฉะนี้', 'ด้วยเพราะ', 'ด้วยว่า', 'ด้วยเหตุที่', 'ด้วยเหตุนั้น', 'ด้วยเหตุนี้', 'ด้วยเหตุเพราะ', 'ด้วยเหตุว่า', 'ด้วยเหมือนกัน', 'ดั่ง', 'ดังกล่าว', 'ดังกับ', 'ดั่งกับ', 'ดังกับว่า', 'ดั่งกับว่า', 'ดังเก่า', 'ดั่งเก่า', 'ดังเคย', 'ใดๆ', 'ได้', 'ได้แก่', 'ได้แต่', 'ได้ที่', 'ได้มา', 'ได้รับ', 'ตน', 'ตนเอง', 'ตนฯ', 'ตรง', 'ตรงๆ', 'ตลอด', 'ตลอดกาล', 'ตลอดกาลนาน', 'ตลอดจน', 'ตลอดถึง', 'ตลอดทั้ง', 'ตลอดทั่ว', 'ตลอดทั่วถึง', 'ตลอดทั่วทั้ง', 'ตลอดปี', 'ตลอดไป', 'ตลอดมา', 'ตลอดระยะเวลา', 'ตลอดวัน', 'ตลอดเวลา', 'ตลอดศก', 'ต่อ', 'ต่อกัน', 'ถึงแก่', 'ถึงจะ', 'ถึงบัดนั้น', 'ถึงบัดนี้', 'ถึงเมื่อ', 'ถึงเมื่อใด', 'ถึงเมื่อไร', 'ถึงแม้', 'ถึงแม้จะ', 'ถึงแม้ว่า', 'ถึงอย่างไร', 'ถือ', 'ถือว่า', 'ถูกต้อง', 'ถูกๆ', 'เถอะ', 'เถิด', 'ทรง', 'ทว่า', 'ทั้งคน', 'ทั้งตัว', 'ทั้งที', 'ทั้งที่', 'ทั้งนั้น', 'ทั้งนั้นด้วย', 'ทั้งนั้นเพราะ', 'นอก', 'นอกจากที่', 'นอกจากนั้น', 'นอกจากนี้', 'นอกจากว่า', 'นอกนั้น', 'นอกเหนือ', 'นอกเหนือจาก', 'น้อย', 'น้อยกว่า', 'น้อยๆ', 'นะ', 'น่ะ', 'นักๆ', 'นั่น', 'นั่นไง', 'นั่นเป็น', 'นั่นแหละ', 'นั่นเอง', 'นั้นๆ', 'นับ', 'นับจากนั้น', 'นับจากนี้', 'นับตั้งแต่', 'นับแต่', 'นับแต่ที่', 'นับแต่นั้น', 'เป็นต้น', 'เป็นต้นไป', 'เป็นต้นมา', 'เป็นแต่', 'เป็นแต่เพียง', 'เป็นที', 'เป็นที่', 'เป็นที่สุด', 'เป็นเพราะ', 'เป็นเพราะว่า', 'เป็นเพียง', 'เป็นเพียงว่า', 'เป็นเพื่อ', 'เป็นอัน', 'เป็นอันมาก', 'เป็นอันว่า', 'เป็นอันๆ', 'เป็นอาทิ', 'เป็นๆ', 'เปลี่ยน', 'เปลี่ยนแปลง', 'เปิด', 'เปิดเผย', 'ไป่', 'ผ่าน', 'ผ่านๆ', 'ผิด', 'ผิดๆ', 'ผู้', 'เพียงเพื่อ', 'เพียงไร', 'เพียงไหน', 'เพื่อที่', 'เพื่อที่จะ', 'เพื่อว่า', 'เพื่อให้', 'ภาค', 'ภาคฯ', 'ภาย', 'ภายใต้', 'ภายนอก', 'ภายใน', 'ภายภาค', 'ภายภาคหน้า', 'ภายหน้า', 'ภายหลัง', 'มอง', 'มองว่า', 'มัก', 'มักจะ', 'มัน', 'มันๆ', 'มั้ย', 'มั้ยนะ', 'มั้ยนั่น', 'มั้ยเนี่ย', 'มั้ยล่ะ', 'ยืนนาน', 'ยืนยง', 'ยืนยัน', 'ยืนยาว', 'เยอะ', 'เยอะแยะ', 'เยอะๆ', 'แยะ', 'แยะๆ', 'รวด', 'รวดเร็ว', 'ร่วม', 'รวมกัน', 'ร่วมกัน', 'รวมด้วย', 'ร่วมด้วย', 'รวมถึง', 'รวมทั้ง', 'ร่วมมือ', 'รวมๆ', 'ระยะ', 'ระยะๆ', 'ระหว่าง', 'รับรอง', 'รึ', 'รึว่า', 'รือ', 'รือว่า', 'สิ้นกาลนาน', 'สืบเนื่อง', 'สุดๆ', 'สู่', 'สูง', 'สูงกว่า', 'สูงส่ง', 'สูงสุด', 'สูงๆ', 'เสมือนกับ', 'เสมือนว่า', 'เสร็จ', 'เสร็จกัน', 'เสร็จแล้ว', 'เสร็จสมบูรณ์', 'เสร็จสิ้น', 'เสีย', 'เสียก่อน', 'เสียจน', 'เสียจนกระทั่ง', 'เสียจนถึง', 'เสียด้วย', 'เสียนั่น', 'เสียนั่นเอง', 'เสียนี่', 'เสียนี่กระไร', 'เสียยิ่ง', 'เสียยิ่งนัก', 'เสียแล้ว', 'ใหญ่ๆ', 'ให้ดี', 'ให้แด่', 'ให้ไป', 'ใหม่', 'ให้มา', 'ใหม่ๆ', 'ไหน', 'ไหนๆ', 'อดีต', 'อนึ่ง', 'อย่าง', 'อย่างเช่น', 'อย่างดี', 'อย่างเดียว', 'อย่างใด', 'อย่างที่', 'อย่างน้อย', 'อย่างนั้น', 'อย่างนี้', 'อย่างโน้น', 'ก็คือ', 'ก็แค่', 'ก็จะ', 'ก็ดี', 'ก็ได้', 'ก็ต่อเมื่อ', 'ก็ตาม', 'ก็ตามแต่', 'ก็ตามที', 'ก็แล้วแต่', 'กระทั่ง', 'กระทำ', 'กระนั้น', 'กระผม', 'กลับ', 'กล่าวคือ', 'กลุ่ม', 'กลุ่มก้อน', 'กลุ่มๆ', 'กว้าง', 'กว้างขวาง', 'กว้างๆ', 'ก่อนหน้า', 'ก่อนหน้านี้', 'ก่อนๆ', 'กันดีกว่า', 'กันดีไหม', 'กันเถอะ', 'กันนะ', 'กันและกัน', 'กันไหม', 'กันเอง', 'กำลัง', 'กำลังจะ', 'กำหนด', 'กู', 'เก็บ', 'เกิด', 'เกี่ยวข้อง', 'แก่', 'แก้ไข', 'ใกล้', 'ใกล้ๆ', 'ข้า', 'ข้าง', 'ข้างเคียง', 'ข้างต้น', 'ข้างบน', 'ข้างล่าง', 'ข้างๆ', 'ขาด', 'ข้าพเจ้า', 'ข้าฯ', 'เข้าใจ', 'เขียน', 'คงจะ', 'คงอยู่', 'ครบ', 'ครบครัน', 'ครบถ้วน', 'ครั้งกระนั้น', 'ครั้งก่อน', 'ครั้งครา', 'ครั้งคราว', 'ครั้งใด', 'ครั้งที่', 'ครั้งนั้น', 'ครั้งนี้', 'ครั้งละ', 'ครั้งหนึ่ง', 'ครั้งหลัง', 'ครั้งหลังสุด', 'ครั้งไหน', 'ครั้งๆ', 'ครัน', 'ครับ', 'ครา', 'คราใด', 'คราที่', 'ครานั้น', 'ครานี้', 'คราหนึ่ง', 'คราไหน', 'คราว', 'คราวก่อน', 'คราวใด', 'คราวที่', 'คราวนั้น', 'คราวนี้', 'คราวโน้น', 'คราวละ', 'คราวหน้า', 'คราวหนึ่ง', 'คราวหลัง', 'คราวไหน', 'คราวๆ', 'คล้าย', 'คล้ายกัน', 'คล้ายกันกับ', 'คล้ายกับ', 'คล้ายกับว่า', 'คล้ายว่า', 'ควร', 'ค่อน', 'ค่อนข้าง', 'ค่อนข้างจะ', 'ค่อยไปทาง', 'ค่อนมาทาง', 'ค่อย', 'ค่อยๆ', 'คะ', 'ค่ะ', 'คำ', 'คิด', 'คิดว่า', 'คุณ', 'คุณๆ', 'เคยๆ', 'แค่', 'แค่จะ', 'แค่นั้น', 'แค่นี้', 'แค่เพียง', 'แค่ว่า', 'แค่ไหน', 'ใคร่', 'ใคร่จะ', 'ง่าย', 'ง่ายๆ', 'จนกว่า', 'จนแม้', 'จนแม้น', 'จังๆ', 'จวบกับ', 'จวบจน', 'จ้ะ', 'จ๊ะ', 'จะได้', 'จัง', 'จัดการ', 'จัดงาน', 'จัดแจง', 'จัดตั้ง', 'จัดทำ', 'จัดหา', 'จัดให้', 'จับ', 'จ้า', 'จ๋า', 'จากนั้น', 'จากนี้', 'จากนี้ไป', 'จำ', 'จำเป็น', 'จำพวก', 'จึงจะ', 'จึงเป็น', 'จู่ๆ', 'ฉะนั้น', 'ฉะนี้', 'ฉัน', 'เฉกเช่น', 'เฉย', 'เฉยๆ', 'ไฉน', 'ช่วงก่อน', 'ช่วงต่อไป', 'ช่วงถัดไป', 'ช่วงท้าย', 'ช่วงที่', 'ช่วงนั้น', 'ช่วงนี้', 'ช่วงระหว่าง', 'ช่วงแรก', 'ช่วงหน้า', 'ช่วงหลัง', 'ช่วงๆ', 'ช่วย', 'ช้า', 'ช้านาน', 'ชาว', 'ช้าๆ', 'เช่นก่อน', 'เช่นกัน', 'เช่นเคย', 'เช่นดัง', 'เช่นดังก่อน', 'เช่นดังเก่า', 'เช่นดังที่', 'เช่นดังว่า', 'เช่นเดียวกัน', 'เช่นเดียวกับ', 'เช่นใด', 'เช่นที่', 'เช่นที่เคย', 'เช่นที่ว่า', 'เช่นนั้น', 'เช่นนั้นเอง', 'เช่นนี้', 'เช่นเมื่อ', 'เช่นไร', 'เชื่อ', 'เชื่อถือ', 'เชื่อมั่น', 'เชื่อว่า', 'ใช่', 'ใช่ไหม', 'ใช้', 'ซะ', 'ซะก่อน', 'ซะจน', 'ซะจนกระทั่ง', 'ซะจนถึง', 'ซึ่งได้แก่', 'ด้วยกัน', 'ด้วยเช่นกัน', 'ด้วยที่', 'ด้วยเพราะ', 'ด้วยว่า', 'ด้วยเหตุที่', 'ด้วยเหตุนั้น', 'ด้วยเหตุนี้', 'ด้วยเหตุเพราะ', 'ด้วยเหตุว่า', 'ด้วยเหมือนกัน', 'ดังกล่าว', 'ดังกับว่า', 'ดั่งกับว่า', 'ดังเก่า', 'ดั่งเก่า', 'ดั่งเคย', 'ต่างก็', 'ต่างหาก', 'ตามด้วย', 'ตามแต่', 'ตามที่', 'ตามๆ', 'เต็มไปด้วย', 'เต็มไปหมด', 'เต็มๆ', 'แต่ก็', 'แต่ก่อน', 'แต่จะ', 'แต่เดิม', 'แต่ต้อง', 'แต่ถ้า', 'แต่ทว่า', 'แต่ที่', 'แต่นั้น', 'แต่เพียง', 'แต่เมื่อ', 'แต่ไร', 'แต่ละ', 'แต่ว่า', 'แต่ไหน', 'แต่อย่างใด', 'โต', 'โตๆ', 'ใต้', 'ถ้าจะ', 'ถ้าหาก', 'ถึงแก่', 'ถึงแม้', 'ถึงแม้จะ', 'ถึงแม้ว่า', 'ถึงอย่างไร', 'ถือว่า', 'ถูกต้อง', 'ทว่า', 'ทั้งนั้นด้วย', 'ทั้งปวง', 'ทั้งเป็น', 'ทั้งมวล', 'ทั้งสิ้น', 'ทั้งหมด', 'ทั้งหลาย', 'ทั้งๆ', 'ทัน', 'ทันใดนั้น', 'ทันที', 'ทันทีทันใด', 'ทั่ว', 'ทำไม', 'ทำไร', 'ทำให้', 'ทำๆ', 'ที', 'ที่จริง', 'ที่ซึ่ง', 'ทีเดียว', 'ทีใด', 'ที่ใด', 'ที่ได้', 'ทีเถอะ', 'ที่แท้', 'ที่แท้จริง', 'ที่นั้น', 'ที่นี้', 'ทีไร', 'ทีละ', 'ที่ละ', 'ที่แล้ว', 'ที่ว่า', 'ที่แห่งนั้น', 'ที่ไหน', 'ทีๆ', 'ที่ๆ', 'ทุกคน', 'ทุกครั้ง', 'ทุกครา', 'ทุกคราว', 'ทุกชิ้น', 'ทุกตัว', 'ทุกทาง', 'ทุกที', 'ทุกที่', 'ทุกเมื่อ', 'ทุกวัน', 'ทุกวันนี้', 'ทุกสิ่ง', 'ทุกหน', 'ทุกแห่ง', 'ทุกอย่าง', 'ทุกอัน', 'ทุกๆ', 'เท่า', 'เท่ากัน', 'เท่ากับ', 'เท่าใด', 'เท่าที่', 'เท่านั้น', 'เท่านี้', 'เท่าไร', 'เท่าไหร่', 'แท้', 'แท้จริง', 'เธอ', 'นอกจากว่า', 'น้อย', 'น้อยกว่า', 'น้อยๆ', 'น่ะ', 'นั้นไว', 'นับแต่นี้', 'นาง', 'นางสาว', 'น่าจะ', 'นาน', 'นานๆ', 'นาย', 'นำ', 'นำพา', 'นำมา', 'นิด', 'นิดหน่อย', 'นิดๆ', 'นี่', 'นี่ไง', 'นี่นา', 'นี่แน่ะ', 'นี่แหละ', 'นี้แหล่', 'นี่เอง', 'นี้เอง', 'นู่น', 'นู้น', 'เน้น', 'เนี่ย', 'เนี่ยเอง', 'ในช่วง', 'ในที่', 'ในเมื่อ', 'ในระหว่าง', 'บน', 'บอก', 'บอกแล้ว', 'บอกว่า', 'บ่อย', 'บ่อยกว่า', 'บ่อยครั้ง', 'บ่อยๆ', 'บัดดล', 'บัดเดี๋ยวนี้', 'บัดนั้น', 'บัดนี้', 'บ้าง', 'บางกว่า', 'บางขณะ', 'บางครั้ง', 'บางครา', 'บางคราว', 'บางที', 'บางที่', 'บางแห่ง', 'บางๆ', 'ปฏิบัติ', 'ประกอบ', 'ประการ', 'ประการฉะนี้', 'ประการใด', 'ประการหนึ่ง', 'ประมาณ', 'ประสบ', 'ปรับ', 'ปรากฏ', 'ปรากฏว่า', 'ปัจจุบัน', 'ปิด', 'เป็นด้วย', 'เป็นดัง', 'เป็นต้น', 'เป็นแต่', 'เป็นเพื่อ', 'เป็นอัน', 'เป็นอันมาก', 'เป็นอาทิ', 'ผ่านๆ', 'ผู้', 'ผู้ใด', 'เผื่อ', 'เผื่อจะ', 'เผื่อที่', 'เผื่อว่า', 'ฝ่าย', 'ฝ่ายใด', 'พบว่า', 'พยายาม', 'พร้อมกัน', 'พร้อมกับ', 'พร้อมด้วย', 'พร้อมทั้ง', 'พร้อมที่', 'พร้อมเพียง', 'พวก', 'พวกกัน', 'พวกกู', 'พวกแก', 'พวกเขา', 'พวกคุณ', 'พวกฉัน', 'พวกท่าน', 'พวกที่', 'พวกเธอ', 'พวกนั้น', 'พวกนี้', 'พวกนู้น', 'พวกโน้น', 'พวกมัน', 'พวกมึง', 'พอ', 'พอกัน', 'พอควร', 'พอจะ', 'พอดี', 'พอตัว', 'พอที', 'พอที่', 'พอเพียง', 'พอแล้ว', 'พอสม', 'พอสมควร', 'พอเหมาะ', 'พอๆ', 'พา', 'พึง', 'พึ่ง', 'พื้นๆ', 'พูด', 'เพราะฉะนั้น', 'เพราะว่า', 'เพิ่ง', 'เพิ่งจะ', 'เพิ่ม', 'เพิ่มเติม', 'เพียง', 'เพียงแค่', 'เพียงใด', 'เพียงแต่', 'เพียงพอ', 'เพียงเพราะ', 'เพื่อว่า', 'เพื่อให้', 'ภายใต้', 'มองว่า', 'มั๊ย', 'มากกว่า', 'มากมาย', 'มิ', 'มิฉะนั้น', 'มิใช่', 'มิได้', 'มีแต่', 'มึง', 'มุ่ง', 'มุ่งเน้น', 'มุ่งหมาย', 'เมื่อก่อน', 'เมื่อครั้ง', 'เมื่อครั้งก่อน', 'เมื่อคราวก่อน', 'เมื่อคราวที่', 'เมื่อคราว', 'เมื่อคืน', 'เมื่อเช้า', 'เมื่อใด', 'เมื่อนั้น', 'เมื่อนี้', 'เมื่อเย็น', 'เมื่อไร', 'เมื่อวันวาน', 'เมื่อวาน', 'เมื่อไหร่', 'แม้', 'แม้กระทั่ง', 'แม้แต่', 'แม้นว่า', 'แม้ว่า', 'ไม่ค่อย', 'ไม่ค่อยจะ', 'ไม่ค่อยเป็น', 'ไม่ใช่', 'ไม่เป็นไร', 'ไม่ว่า', 'ยก', 'ยกให้', 'ยอม', 'ยอมรับ', 'ย่อม', 'ย่อย', 'ยังคง', 'ยังงั้น', 'ยังงี้', 'ยังโง้น', 'ยังไง', 'ยังจะ', 'ยังแต่', 'ยาก', 'ยาว', 'ยาวนาน', 'ยิ่ง', 'ยิ่งกว่า', 'ยิ่งขึ้น', 'ยิ่งขึ้นไป', 'ยิ่งจน', 'ยิ่งจะ', 'ยิ่งนัก', 'ยิ่งเมื่อ', 'ยิ่งแล้ว', 'ยิ่งใหญ่', 'ร่วมกัน', 'รวมด้วย', 'ร่วมด้วย', 'รือว่า', 'เร็ว', 'เร็วๆ', 'เราๆ', 'เรียก', 'เรียบ', 'เรื่อย', 'เรื่อยๆ', 'ไร', 'ล้วน', 'ล้วนจน', 'ล้วนแต่', 'ละ', 'ล่าสุด', 'เล็ก', 'เล็กน้อย', 'เล็กๆ', 'เล่าว่า', 'แล้วกัน', 'แล้วแต่', 'แล้วเสร็จ', 'วันใด', 'วันนั้น', 'วันนี้', 'วันไหน', 'สบาย', 'สมัย', 'สมัยก่อน', 'สมัยนั้น', 'สมัยนี้', 'สมัยโน้น', 'ส่วนเกิน', 'ส่วนด้อย', 'ส่วนดี', 'ส่วนใด', 'ส่วนที่', 'ส่วนน้อย', 'ส่วนนั้น', 'ส่วนมาก', 'ส่วนใหญ่', 'สั้น', 'สั้นๆ', 'สามารถ', 'สำคัญ', 'สิ่ง', 'สิ่งใด', 'สิ่งนั้น', 'สิ่งนี้', 'สิ่งไหน', 'สิ้น', 'เสร็จแล้ว', 'เสียด้วย', 'เสียแล้ว', 'แสดง', 'แสดงว่า', 'หน', 'หนอ', 'หนอย', 'หน่อย', 'หมด', 'หมดกัน', 'หมดสิ้น', 'หรือไง', 'หรือเปล่า', 'หรือไม่', 'หรือยัง', 'หรือไร', 'หากแม้', 'หากแม้น', 'หากแม้นว่า', 'หากว่า', 'หาความ', 'หาใช่', 'หารือ', 'เหตุ', 'เหตุผล', 'เหตุนั้น', 'เหตุนี้', 'เหตุไร', 'เห็นแก่', 'เห็นควร', 'เห็นจะ', 'เห็นว่า', 'เหลือ', 'เหลือเกิน', 'เหล่า', 'เหล่านั้น', 'เหล่านี้', 'แห่งใด', 'แห่งนั้น', 'แห่งนี้', 'แห่งโน้น', 'แห่งไหน', 'แหละ', 'ให้แก่', 'ใหญ่', 'ใหญ่โต', 'อย่างเช่น', 'อย่างดี', 'อย่างเดียว', 'อย่างใด', 'อย่างที่', 'อย่างน้อย', 'อย่างนั้น', 'อย่างนี้', 'อย่างโน้น', 'อย่างมาก', 'อย่างยิ่ง', 'อย่างไร', 'อย่างไรก็', 'อย่างไรก็ได้', 'อย่างไรเสีย', 'อย่างละ', 'อย่างหนึ่ง', 'อย่างไหน', 'อย่างๆ', 'อัน', 'อันจะ', 'อันใด', 'อันได้แก่', 'อันที่', 'อันที่จริง', 'อันที่จะ', 'อันเนื่องมาจาก', 'อันละ', 'อันไหน', 'อันๆ', 'อาจจะ', 'อาจเป็น', 'อาจเป็นด้วย', 'อื่น', 'อื่นๆ', 'เอ็ง', 'เอา', 'ฯ', 'ฯล', 'ฯลฯ']\n"
          ],
          "name": "stdout"
        }
      ]
    },
    {
      "metadata": {
        "id": "59vBEF6IwItd",
        "colab_type": "text"
      },
      "cell_type": "markdown",
      "source": [
        "Just to be safe, you would also want to remove english stopwords. "
      ]
    },
    {
      "metadata": {
        "id": "2fpWeAh9wItd",
        "colab_type": "code",
        "colab": {
          "base_uri": "https://localhost:8080/",
          "height": 71
        },
        "outputId": "828ed6b9-2f78-4a65-d541-cedaf661bf18"
      },
      "cell_type": "code",
      "source": [
        "en_stop = get_stop_words('en')\n",
        "\n",
        "#Get rid of stopwords. \n",
        "stopped_tokens = [i for i in tokens if not i in words and not i in en_stop]\n",
        "print('This is our text after we remove the stop_words: ')\n",
        "print(stopped_tokens)\n",
        "\n"
      ],
      "execution_count": 0,
      "outputs": [
        {
          "output_type": "stream",
          "text": [
            "This is our text after we remove the stop_words: \n",
            "['คอนโดมิเนียม', 'หรู', 'ชายหาด', 'ส่วนตัว', '  ', 'บรรยากาศ', 'เงียบสงบ', '  ', 'ห้องชุด', 'ริมทะเล', ' ', 'สระว่ายน้ำ', 'ส่วนตัว', ' ', 'ระเบียง', 'โค้ง', 'ใส', ' ', 'เชื่อม', 'ความต่อเนื่อง', 'ทะเล', 'สี', 'คราม', 'ที่อยู่', 'ห่าง', ' ', '30', ' ', 'เมตร', ' ', 'ตกแต่ง', 'เฟอร์นิเจอร์']\n"
          ],
          "name": "stdout"
        }
      ]
    },
    {
      "metadata": {
        "id": "RkclzMs1wItg",
        "colab_type": "text"
      },
      "cell_type": "markdown",
      "source": [
        "We can improve this even more with the idea of removing morphology in english. Words like 'cute' and 'cuteness' are more or less about the same meaning. Thus we can reduce it with the porter stemmer library. "
      ]
    },
    {
      "metadata": {
        "id": "foCIzgqRwItg",
        "colab_type": "code",
        "colab": {
          "base_uri": "https://localhost:8080/",
          "height": 51
        },
        "outputId": "f899c2a2-64cb-4513-c874-2cc7e0b94656"
      },
      "cell_type": "code",
      "source": [
        "from nltk.stem.porter import PorterStemmer\n",
        "p_stemmer = PorterStemmer()\n",
        "ls = ['cuteness', 'cute', 'aggressive', 'aggression']\n",
        "print('Before: ', ls)\n",
        "stemmed_tokens = [p_stemmer.stem(i) for i in ls]\n",
        "print('After: ',stemmed_tokens)"
      ],
      "execution_count": 0,
      "outputs": [
        {
          "output_type": "stream",
          "text": [
            "Before:  ['cuteness', 'cute', 'aggressive', 'aggression']\n",
            "After:  ['cute', 'cute', 'aggress', 'aggress']\n"
          ],
          "name": "stdout"
        }
      ]
    },
    {
      "metadata": {
        "id": "ByMGcLfXwItk",
        "colab_type": "text"
      },
      "cell_type": "markdown",
      "source": [
        "Notice that we have reduced them to the same word."
      ]
    },
    {
      "metadata": {
        "id": "yyXIXx0YwItk",
        "colab_type": "code",
        "colab": {
          "base_uri": "https://localhost:8080/",
          "height": 54
        },
        "outputId": "1744931f-3780-4d66-f292-86b92545ee55"
      },
      "cell_type": "code",
      "source": [
        "stemmed_tokens = [p_stemmer.stem(i) for i in stopped_tokens]\n",
        "print(stemmed_tokens)"
      ],
      "execution_count": 0,
      "outputs": [
        {
          "output_type": "stream",
          "text": [
            "['คอนโดมิเนียม', 'หรู', 'ชายหาด', 'ส่วนตัว', '  ', 'บรรยากาศ', 'เงียบสงบ', '  ', 'ห้องชุด', 'ริมทะเล', ' ', 'สระว่ายน้ำ', 'ส่วนตัว', ' ', 'ระเบียง', 'โค้ง', 'ใส', ' ', 'เชื่อม', 'ความต่อเนื่อง', 'ทะเล', 'สี', 'คราม', 'ที่อยู่', 'ห่าง', ' ', '30', ' ', 'เมตร', ' ', 'ตกแต่ง', 'เฟอร์นิเจอร์']\n"
          ],
          "name": "stdout"
        }
      ]
    },
    {
      "metadata": {
        "id": "axULUUWKwIto",
        "colab_type": "text"
      },
      "cell_type": "markdown",
      "source": [
        "Next, we will want to remove numbers like '30' out from our data."
      ]
    },
    {
      "metadata": {
        "id": "YiCDZHmZwItp",
        "colab_type": "code",
        "colab": {
          "base_uri": "https://localhost:8080/",
          "height": 54
        },
        "outputId": "5fe0c77c-420f-483c-f082-28de4b8519b7"
      },
      "cell_type": "code",
      "source": [
        "single_alpha_num_tokens = [i for i in stemmed_tokens if not i in alphabet.get_data() and not i.isnumeric()]\n",
        "print(single_alpha_num_tokens)"
      ],
      "execution_count": 0,
      "outputs": [
        {
          "output_type": "stream",
          "text": [
            "['คอนโดมิเนียม', 'หรู', 'ชายหาด', 'ส่วนตัว', '  ', 'บรรยากาศ', 'เงียบสงบ', '  ', 'ห้องชุด', 'ริมทะเล', ' ', 'สระว่ายน้ำ', 'ส่วนตัว', ' ', 'ระเบียง', 'โค้ง', 'ใส', ' ', 'เชื่อม', 'ความต่อเนื่อง', 'ทะเล', 'สี', 'คราม', 'ที่อยู่', 'ห่าง', ' ', ' ', 'เมตร', ' ', 'ตกแต่ง', 'เฟอร์นิเจอร์']\n"
          ],
          "name": "stdout"
        }
      ]
    },
    {
      "metadata": {
        "id": "aRD7B35_wIts",
        "colab_type": "text"
      },
      "cell_type": "markdown",
      "source": [
        "As you can see, there still exists meaningless element like '  '. \n",
        "\n",
        "Write a python code to get rid of those. "
      ]
    },
    {
      "metadata": {
        "id": "krL7C_eywIts",
        "colab_type": "code",
        "colab": {
          "base_uri": "https://localhost:8080/",
          "height": 54
        },
        "outputId": "e5428c44-5a5a-4230-88ef-fd3f4bc1042c"
      },
      "cell_type": "code",
      "source": [
        "deletelist = [' ','  ','   ', '    ']\n",
        "tokens = [i for i in single_alpha_num_tokens if not i in deletelist]\n",
        "print(tokens)"
      ],
      "execution_count": 0,
      "outputs": [
        {
          "output_type": "stream",
          "text": [
            "['คอนโดมิเนียม', 'หรู', 'ชายหาด', 'ส่วนตัว', 'บรรยากาศ', 'เงียบสงบ', 'ห้องชุด', 'ริมทะเล', 'สระว่ายน้ำ', 'ส่วนตัว', 'ระเบียง', 'โค้ง', 'ใส', 'เชื่อม', 'ความต่อเนื่อง', 'ทะเล', 'สี', 'คราม', 'ที่อยู่', 'ห่าง', 'เมตร', 'ตกแต่ง', 'เฟอร์นิเจอร์']\n"
          ],
          "name": "stdout"
        }
      ]
    },
    {
      "metadata": {
        "id": "RiKLZrYFwIt0",
        "colab_type": "text"
      },
      "cell_type": "markdown",
      "source": [
        "### TO DO #4: Create Your Own Word Splitting Function\n",
        "\n",
        "Create your own function for splitting Thai chunk of text into a list of words. \n",
        "\n",
        "Your function will take a string as an input, and return a list.\n",
        "\n",
        "Feel free to use the code above or experiment with different methods. \n",
        "\n",
        "Name this function split_word for future use within this notebook."
      ]
    },
    {
      "metadata": {
        "id": "dUdRd4hOwIt0",
        "colab_type": "code",
        "colab": {
          "base_uri": "https://localhost:8080/",
          "height": 54
        },
        "outputId": "66bfa348-3925-4b0b-d5c9-6891dc019de6"
      },
      "cell_type": "code",
      "source": [
        "text = 'BOLD Your Space คิด...ให้...ครบ ทุกขนาดไลฟ์สไตล์ ดีไซน์ชีวิตให้เด่น ไลฟ์สไตล์ให้เดิร์นสุดๆ กับสถาปัตยกรรมอาคารที่มีเอกลักษณ์ชัดเจนเหมือนคนรุ่นใหม่เช่นคุณ ด้วยอาคารสีเทาดำ เรียบเท่ ทางเข้าและโถงต้อนรับสไตล์ Extravagant Hotel Lobby ให้ความโอ่อ่า หรูหรา กว่าคอนโดมิเนียมทั่วไป การตกแต่งภายในใส่ใจในทุกรายละเอียด ตอบสนองไลฟ์สไตล์คนรุ่นใหม่ได้สูงสุด ด้วย \\'\\'เฟอร์นิเจอร์ดีไซน์พิเศษ\\'\\' มีสระว่ายน้ำ ฟิตเนสเห็นวิวสระว่ายน้ำ เป็นสระออกกำลังกาย'\n",
        "\n",
        "def split_word(text2):\n",
        "    \n",
        "    #Insert Your Code Here\n",
        "    \n",
        "    return tokens\n",
        "\n",
        "print(split_word(text))"
      ],
      "execution_count": 0,
      "outputs": [
        {
          "output_type": "stream",
          "text": [
            "['bold', 'your', 'space', 'ขนาด', 'ไลฟ์สไตล์', 'ดีไซน์', 'ชีวิต', 'เด่น', 'ไลฟ์สไตล์', 'เดิร์น', 'สถาปัตยกรรม', 'อาคาร', 'เอกลักษณ์', 'ชัดเจน', 'เหมือน', 'คนรุ่นใหม่', 'อาคาร', 'สีเทา', 'ดำ', 'เท่', 'ทางเข้า', 'โถง', 'ต้อนรับ', 'สไตล์', 'extravag', 'hotel', 'lobbi', 'ความโอ่อ่า', 'หรูหรา', 'คอนโดมิเนียม', 'ทั่วไป', 'ตกแต่งภายใน', 'ใส่ใจ', 'รายละเอียด', 'ตอบสนอง', 'ไลฟ์สไตล์', 'คนรุ่นใหม่', 'เฟอร์นิเจอร์', 'ดีไซน์', 'พิเศษ', 'สระว่ายน้ำ', 'ฟิต', 'เน', 'วิว', 'สระว่ายน้ำ', 'สระ', 'ออกกำลังกาย']\n"
          ],
          "name": "stdout"
        }
      ]
    },
    {
      "metadata": {
        "id": "0oh1eUC9wIt4",
        "colab_type": "text"
      },
      "cell_type": "markdown",
      "source": [
        "## Latent Dirichlet Allocation!\n",
        "---\n",
        "While we could use each and every of these words as a project feature, consider that there exists way too many words, maybe 100,000 or more words, in total in our ~5,000 projects. Too many features would also mean that it is too computationally expensive. \n",
        "\n",
        "Instead, we will use Latent-Dirichlet Allocation(LDA) to find the topic probability and use those instead of using each word as a feature.\n",
        "\n",
        "We will start by importing a python library called **gensim**.\n",
        "\n",
        "Note that in order to save time(since LDA takes a while to train), we will only train the model with the first 3000 project descriptions in this tutorial. You should use project descriptions from the entire data file to train the model. \n",
        "\n",
        "The model takes an input of a term dictionary and a document-term matrix. We have handled the dictionary and corpus preparation for you, but you can find out about it more [here](https://radimrehurek.com/gensim/models/ldamodel.html).\n",
        "\n",
        "We have also fixed the random state. In reality, you might want to remove this and train the model a couple of times and see which result you like the most. "
      ]
    },
    {
      "metadata": {
        "id": "yIv-GZbDMdAO",
        "colab_type": "code",
        "colab": {
          "base_uri": "https://localhost:8080/",
          "height": 360
        },
        "outputId": "a02ee4c1-fa9c-43a0-9186-5ea3bfa22a03"
      },
      "cell_type": "code",
      "source": [
        "!pip3 install gensim\n",
        "!pip3 install corpus\n",
        "import gensim\n",
        "from gensim import corpora, models"
      ],
      "execution_count": 0,
      "outputs": [
        {
          "output_type": "stream",
          "text": [
            "Requirement already satisfied: gensim in /usr/local/lib/python3.6/dist-packages (3.5.0)\n",
            "Requirement already satisfied: six>=1.5.0 in /usr/local/lib/python3.6/dist-packages (from gensim) (1.11.0)\n",
            "Requirement already satisfied: numpy>=1.11.3 in /usr/local/lib/python3.6/dist-packages (from gensim) (1.14.5)\n",
            "Requirement already satisfied: smart-open>=1.2.1 in /usr/local/lib/python3.6/dist-packages (from gensim) (1.6.0)\n",
            "Requirement already satisfied: scipy>=0.18.1 in /usr/local/lib/python3.6/dist-packages (from gensim) (0.19.1)\n",
            "Requirement already satisfied: boto>=2.32 in /usr/local/lib/python3.6/dist-packages (from smart-open>=1.2.1->gensim) (2.49.0)\n",
            "Requirement already satisfied: requests in /usr/local/lib/python3.6/dist-packages (from smart-open>=1.2.1->gensim) (2.18.4)\n",
            "Requirement already satisfied: bz2file in /usr/local/lib/python3.6/dist-packages (from smart-open>=1.2.1->gensim) (0.98)\n",
            "Requirement already satisfied: boto3 in /usr/local/lib/python3.6/dist-packages (from smart-open>=1.2.1->gensim) (1.7.57)\n",
            "Requirement already satisfied: idna<2.7,>=2.5 in /usr/local/lib/python3.6/dist-packages (from requests->smart-open>=1.2.1->gensim) (2.6)\n",
            "Requirement already satisfied: certifi>=2017.4.17 in /usr/local/lib/python3.6/dist-packages (from requests->smart-open>=1.2.1->gensim) (2018.4.16)\n",
            "Requirement already satisfied: urllib3<1.23,>=1.21.1 in /usr/local/lib/python3.6/dist-packages (from requests->smart-open>=1.2.1->gensim) (1.22)\n",
            "Requirement already satisfied: chardet<3.1.0,>=3.0.2 in /usr/local/lib/python3.6/dist-packages (from requests->smart-open>=1.2.1->gensim) (3.0.4)\n",
            "Requirement already satisfied: s3transfer<0.2.0,>=0.1.10 in /usr/local/lib/python3.6/dist-packages (from boto3->smart-open>=1.2.1->gensim) (0.1.13)\n",
            "Requirement already satisfied: botocore<1.11.0,>=1.10.57 in /usr/local/lib/python3.6/dist-packages (from boto3->smart-open>=1.2.1->gensim) (1.10.57)\n",
            "Requirement already satisfied: jmespath<1.0.0,>=0.7.1 in /usr/local/lib/python3.6/dist-packages (from boto3->smart-open>=1.2.1->gensim) (0.9.3)\n",
            "Requirement already satisfied: docutils>=0.10 in /usr/local/lib/python3.6/dist-packages (from botocore<1.11.0,>=1.10.57->boto3->smart-open>=1.2.1->gensim) (0.14)\n",
            "Requirement already satisfied: python-dateutil<3.0.0,>=2.1; python_version >= \"2.7\" in /usr/local/lib/python3.6/dist-packages (from botocore<1.11.0,>=1.10.57->boto3->smart-open>=1.2.1->gensim) (2.5.3)\n",
            "Requirement already satisfied: corpus in /usr/local/lib/python3.6/dist-packages (0.4.2)\n"
          ],
          "name": "stdout"
        }
      ]
    },
    {
      "metadata": {
        "id": "2L5FeT-HwIt7",
        "colab_type": "code",
        "colab": {}
      },
      "cell_type": "code",
      "source": [
        "inpt_list = []\n",
        "\n",
        "#This is obtaining the project description of the first 1000 projects\n",
        "proj_df = pandas.read_csv('https://raw.githubusercontent.com/PanthonImem/Content-Based-Lab-Notebook/master/project_description.csv', sep = ';').fillna('None')\n",
        "proj_df = proj_df.sort_values('project_id')\n",
        "proj_df = proj_df[proj_df.project_id<3000]\n",
        "proj_df = proj_df.reset_index(drop = True)\n",
        "for i in range(proj_df.shape[0]):\n",
        "    inpt_list.append(split_word(proj_df.iloc[i]['description_th']))\n",
        "\n",
        "#We will turn this into a term dictionary for our model\n",
        "\n",
        "# turn our tokenized documents into a id <-> term dictionary\n",
        "dictionary = corpora.Dictionary(inpt_list)\n",
        "dict2 = {dictionary[ID]:ID for ID in dictionary.keys()  }\n",
        "\n",
        "# convert tokenized documents into a document-term matrix\n",
        "corpus = [dictionary.doc2bow(text) for text in inpt_list]"
      ],
      "execution_count": 0,
      "outputs": []
    },
    {
      "metadata": {
        "id": "ZR1LcCmowIt9",
        "colab_type": "text"
      },
      "cell_type": "markdown",
      "source": [
        "We will now train the LDA model. \n",
        "\n",
        "Note that the top words for each topic might not make much sense to you, but they are the underlying structure(hence the name 'Latent' in Latent Dirichlet Allocation), you can retrain the model if you are unsure. \n",
        "\n",
        "Also, note that the topics will be different on every execution, so if you obtain a desirable result, load the model from the saved file instead of retraining. "
      ]
    },
    {
      "metadata": {
        "id": "o8gSAQRxwIt-",
        "colab_type": "code",
        "colab": {
          "base_uri": "https://localhost:8080/",
          "height": 1241
        },
        "outputId": "a5f43299-ce12-46c7-b841-4eeb8279caa4"
      },
      "cell_type": "code",
      "source": [
        "# generate LDA model\n",
        "num_top = 8\n",
        "num_words = 8\n",
        "num_it = 50\n",
        "ldamodel = gensim.models.ldamodel.LdaModel(corpus,num_top, id2word = dictionary, random_state = 2, passes=num_it)\n",
        "ldamodel.show_topics(num_top, num_words, log=True, formatted=False)\n",
        "\n",
        "#ldamodel.save('HDTwork/lda' + str(num_top) + '_Topics_' + str(num_it) + '_Passes.model')\n"
      ],
      "execution_count": 0,
      "outputs": [
        {
          "output_type": "execute_result",
          "data": {
            "text/plain": [
              "[(0,\n",
              "  [('โครงการ', 0.017890211),\n",
              "   ('ทำเล', 0.013937739),\n",
              "   ('n', 0.010907112),\n",
              "   ('ถนน', 0.010448513),\n",
              "   ('บ้านเดี่ยว', 0.007971386),\n",
              "   ('สะดวกสบาย', 0.007641118),\n",
              "   ('แหล่ง', 0.0074599786),\n",
              "   ('ศักยภาพ', 0.007253299)]),\n",
              " (1,\n",
              "  [('นิ', 0.049044136),\n",
              "   ('ยู', 0.04669608),\n",
              "   ('ชั้น', 0.04065418),\n",
              "   ('อาคาร', 0.03313869),\n",
              "   ('จำนวน', 0.031437453),\n",
              "   ('เมตร', 0.020785395),\n",
              "   ('คอนโดมิเนียม', 0.019199815),\n",
              "   ('ห้องชุด', 0.012328168)]),\n",
              " (2,\n",
              "  [('ชั้น', 0.020443456),\n",
              "   ('ชีวิต', 0.014535136),\n",
              "   ('อาคาร', 0.011951573),\n",
              "   ('รูปแบบ', 0.011647448),\n",
              "   ('n', 0.011393745),\n",
              "   ('ห้อง', 0.011099728),\n",
              "   ('ออกแบบ', 0.009578494),\n",
              "   ('พื้นที่', 0.009307983)]),\n",
              " (3,\n",
              "  [('รถไฟฟ้า', 0.023896594),\n",
              "   ('เดินทาง', 0.022971153),\n",
              "   ('สถานี', 0.022267966),\n",
              "   ('ถนน', 0.017102845),\n",
              "   ('สาย', 0.014412835),\n",
              "   ('ทำเล', 0.012076355),\n",
              "   ('คอนโด', 0.011703157),\n",
              "   ('ชีวิต', 0.011432385)]),\n",
              " (4,\n",
              "  [('บ้าน', 0.032400567),\n",
              "   ('พื้นที่', 0.023777794),\n",
              "   ('ใช้สอย', 0.016938018),\n",
              "   ('ห้องนอน', 0.016738674),\n",
              "   ('บ้านเดี่ยว', 0.016211528),\n",
              "   ('ชั้น', 0.015753675),\n",
              "   ('สไตล์', 0.014918974),\n",
              "   ('ห้องน้ำ', 0.01269425)]),\n",
              " (5,\n",
              "  [('ถนน', 0.014880343),\n",
              "   ('ทางด่วน', 0.008109441),\n",
              "   ('บรรยากาศ', 0.0075309863),\n",
              "   ('พื้นที่', 0.007317664),\n",
              "   ('ชีวิต', 0.007300509),\n",
              "   ('บ้าน', 0.006918861),\n",
              "   ('สะดวก', 0.006420972),\n",
              "   ('โครงการ', 0.006236215)]),\n",
              " (6,\n",
              "  [('โครงการ', 0.023540957),\n",
              "   ('บ้าน', 0.022355251),\n",
              "   ('บ้านเดี่ยว', 0.017456815),\n",
              "   ('คุณภาพ', 0.013748248),\n",
              "   ('เน', 0.013152798),\n",
              "   ('พื้นที่', 0.012355949),\n",
              "   ('ระบบ', 0.010814492),\n",
              "   ('สไตล์', 0.010560757)]),\n",
              " (7,\n",
              "  [('ธรรมชาติ', 0.018624973),\n",
              "   ('ชีวิต', 0.016665421),\n",
              "   ('สไตล์', 0.012601702),\n",
              "   ('ความสุข', 0.012047219),\n",
              "   ('บ้าน', 0.010307258),\n",
              "   ('สัมผัส', 0.0100218905),\n",
              "   ('ระดับ', 0.009569052),\n",
              "   ('ลงตัว', 0.008564901)])]"
            ]
          },
          "metadata": {
            "tags": []
          },
          "execution_count": 116
        }
      ]
    },
    {
      "metadata": {
        "id": "frED2vxPwIuD",
        "colab_type": "text"
      },
      "cell_type": "markdown",
      "source": [
        "We can see that the LDA model nicely generated a topic probability profile for us. \n",
        "\n",
        "We will now try to get a probability from a text. \n"
      ]
    },
    {
      "metadata": {
        "id": "HoiW33tWwIuD",
        "colab_type": "code",
        "colab": {
          "base_uri": "https://localhost:8080/",
          "height": 241
        },
        "outputId": "164e745a-be27-4da3-8c15-bfba9d0280f9"
      },
      "cell_type": "code",
      "source": [
        "#ldamodel = models.LdaModel.load('HDTwork/lda' + str(num_top) + '_Topics_' + str(num_it) + '_Passes.model')\n",
        "def print_topic(text):\n",
        "    list = split_word(text)\n",
        "    bow = dictionary.doc2bow(list)\n",
        "    temp = ldamodel.get_document_topics(bow,minimum_probability=0.1, minimum_phi_value=None,per_word_topics=False)\n",
        "    print(text)\n",
        "    print(temp)\n",
        "    print('-------------------------------------')\n",
        "text = [0]*4\n",
        "text[0] = 'บ้านหลังใหญ่ในสวน ท่ามกลางธรรมชาติ แวดล้อมด้วยสวนป่าธรรมชาติ ต้นไม้ และสายน้ำ ต้นไม้ใหญ่เป็นไม้จากป่า ปลูกร่วม 15 ปี สามารถเข้าถึงสวนได้อย่างสะดวกจากที่พักอาศัย แบ่งพื้นที่ในสวนเป็นส่วนต่าง ๆ ล้อมลานกิจกรรมขนาดใหญ่ สถานที่ออกกำลังกาย ลานสนามหญ้าโล่งกว้างริมน้ำ สำหรับนั่งพักผ่อนชมสวนได้ตลอดเวลา'\n",
        "text[1] = 'โครงการเป็นอาคารพักอาศัยสูง 16 ชั้น จำนวน 2 อาคาร และอาคารคลับเฮ้าส์ จำนวน 448 ยูนิต+ 3 ยูนิตเพื่อการพาณิชย์ '\n",
        "text[2] = 'ทาวน์โฮมหน้ากว้าง ให้ความรู้สึกเหมือนบ้านเดี่ยว ออกแบบเพดานสูงทำให้รู้สึกโปร่สบาย ไม่อึดอัด ออกแบบพื้นที่ใช่สอยได้อย่างเต็มพื้นที่'\n",
        "text[3] = 'ค้นพบมุมมองใหม่ของการใช้ชีวิต กับดีไซต์ที่ตอบสนองแนวคิดที่แตกต่าง บนทำเลที่สะดวกสบาย ใกล้ท่าเรือแหลมฉบัง'\n",
        "\n",
        "for i in range(4):\n",
        "    print_topic(text[i])"
      ],
      "execution_count": 0,
      "outputs": [
        {
          "output_type": "stream",
          "text": [
            "บ้านหลังใหญ่ในสวน ท่ามกลางธรรมชาติ แวดล้อมด้วยสวนป่าธรรมชาติ ต้นไม้ และสายน้ำ ต้นไม้ใหญ่เป็นไม้จากป่า ปลูกร่วม 15 ปี สามารถเข้าถึงสวนได้อย่างสะดวกจากที่พักอาศัย แบ่งพื้นที่ในสวนเป็นส่วนต่าง ๆ ล้อมลานกิจกรรมขนาดใหญ่ สถานที่ออกกำลังกาย ลานสนามหญ้าโล่งกว้างริมน้ำ สำหรับนั่งพักผ่อนชมสวนได้ตลอดเวลา\n",
            "[(4, 0.24236691), (7, 0.64153814)]\n",
            "-------------------------------------\n",
            "โครงการเป็นอาคารพักอาศัยสูง 16 ชั้น จำนวน 2 อาคาร และอาคารคลับเฮ้าส์ จำนวน 448 ยูนิต+ 3 ยูนิตเพื่อการพาณิชย์ \n",
            "[(1, 0.8459821), (6, 0.10041111)]\n",
            "-------------------------------------\n",
            "ทาวน์โฮมหน้ากว้าง ให้ความรู้สึกเหมือนบ้านเดี่ยว ออกแบบเพดานสูงทำให้รู้สึกโปร่สบาย ไม่อึดอัด ออกแบบพื้นที่ใช่สอยได้อย่างเต็มพื้นที่\n",
            "[(4, 0.8107192)]\n",
            "-------------------------------------\n",
            "ค้นพบมุมมองใหม่ของการใช้ชีวิต กับดีไซต์ที่ตอบสนองแนวคิดที่แตกต่าง บนทำเลที่สะดวกสบาย ใกล้ท่าเรือแหลมฉบัง\n",
            "[(0, 0.6729826), (4, 0.25193408)]\n",
            "-------------------------------------\n"
          ],
          "name": "stdout"
        }
      ]
    },
    {
      "metadata": {
        "id": "Tu0QqXMHwIuJ",
        "colab_type": "text"
      },
      "cell_type": "markdown",
      "source": [
        "We can use the values that the LDA gave us as the features of the project. \n",
        "\n",
        "Note that the LDA gave us probabilities, not just what topic the project most likely fall under, thus we can see that our text is a little bit of other topics as well."
      ]
    },
    {
      "metadata": {
        "id": "xxTfUWr1wIuK",
        "colab_type": "text"
      },
      "cell_type": "markdown",
      "source": [
        "## User Profile\n",
        "\n",
        "---\n",
        "\n",
        "\n",
        "\n",
        "Now that we can create a LDA topic profile for every projects, we will want to find a way to capture the interest of our user. \n",
        "\n",
        "One simple way is to average the user profile, which is what we will do in this exercise.  \n",
        "\n",
        "Suppose that user '0003d990-37d2-140c-a68e-060bc1e81ea5' has browsed 3 projects in 5 browsing: \n",
        "\n",
        "\n"
      ]
    },
    {
      "metadata": {
        "id": "vcpeiSJ9wIuL",
        "colab_type": "code",
        "colab": {
          "base_uri": "https://localhost:8080/",
          "height": 119
        },
        "outputId": "0a6f3b69-934f-4256-c8d6-6c9ecc0be454"
      },
      "cell_type": "code",
      "source": [
        "df = pandas.read_csv('https://raw.githubusercontent.com/PanthonImem/Content-Based-Lab-Notebook/master/userLog_201801_201802_for_participants.csv', sep = ';')\n",
        "\n",
        "#Only keep the part where our userCode is the desire user\n",
        "df = df[df.userCode == '0003d990-37d2-140c-a68e-060bc1e81ea5']\n",
        "\n",
        "#Get rid of the unnecessary columns\n",
        "df = df[['userCode','project_id']]\n",
        "df = df.reset_index(drop = True)\n",
        "print(df)\n",
        "\n",
        "#note that we use 0.0 instead of 0 to indicate that this field should store value of the type float, not int.\n",
        "topic_col = []\n",
        "for i in range(num_top):\n",
        "    df['Topic '+str(i)] = 0.0\n",
        "    topic_col.append('Topic '+str(i))\n"
      ],
      "execution_count": 0,
      "outputs": [
        {
          "output_type": "stream",
          "text": [
            "                               userCode  project_id\n",
            "0  0003d990-37d2-140c-a68e-060bc1e81ea5        9334\n",
            "1  0003d990-37d2-140c-a68e-060bc1e81ea5        8742\n",
            "2  0003d990-37d2-140c-a68e-060bc1e81ea5        8742\n",
            "3  0003d990-37d2-140c-a68e-060bc1e81ea5        9334\n",
            "4  0003d990-37d2-140c-a68e-060bc1e81ea5        8631\n"
          ],
          "name": "stdout"
        }
      ]
    },
    {
      "metadata": {
        "id": "IsNVgW_NwIuS",
        "colab_type": "text"
      },
      "cell_type": "markdown",
      "source": [
        "### TO DO #5:\n",
        "1) Open the project description file down below. The file name is project_description.csv \n",
        "\n",
        "Note that there exist empty descriptions for some of the projects. Use .fillna(' ') to fill NaN with something else."
      ]
    },
    {
      "metadata": {
        "id": "6Rh_yOOswIuV",
        "colab_type": "code",
        "colab": {
          "base_uri": "https://localhost:8080/",
          "height": 669
        },
        "outputId": "f73a16cf-3fe0-4894-9295-d1dcc53ed6f0"
      },
      "cell_type": "code",
      "source": [
        "#Insert Your Code Here"
      ],
      "execution_count": 0,
      "outputs": [
        {
          "output_type": "execute_result",
          "data": {
            "text/html": [
              "<div>\n",
              "<style scoped>\n",
              "    .dataframe tbody tr th:only-of-type {\n",
              "        vertical-align: middle;\n",
              "    }\n",
              "\n",
              "    .dataframe tbody tr th {\n",
              "        vertical-align: top;\n",
              "    }\n",
              "\n",
              "    .dataframe thead th {\n",
              "        text-align: right;\n",
              "    }\n",
              "</style>\n",
              "<table border=\"1\" class=\"dataframe\">\n",
              "  <thead>\n",
              "    <tr style=\"text-align: right;\">\n",
              "      <th></th>\n",
              "      <th>project_id</th>\n",
              "      <th>description_th</th>\n",
              "    </tr>\n",
              "  </thead>\n",
              "  <tbody>\n",
              "    <tr>\n",
              "      <th>0</th>\n",
              "      <td>4</td>\n",
              "      <td>ตั้งอยู่ติดถนนรังสิต-นครนายก  จัดแบ่งผังโครงกา...</td>\n",
              "    </tr>\n",
              "    <tr>\n",
              "      <th>1</th>\n",
              "      <td>24</td>\n",
              "      <td>Balance Your Life เลือกคุณภาพชีวิตสมดุลลงตัวใน...</td>\n",
              "    </tr>\n",
              "    <tr>\n",
              "      <th>2</th>\n",
              "      <td>29</td>\n",
              "      <td>None</td>\n",
              "    </tr>\n",
              "    <tr>\n",
              "      <th>3</th>\n",
              "      <td>41</td>\n",
              "      <td>บ้านเดี่ยวเล่นระดับ สไตล์ Modren Contemporary ...</td>\n",
              "    </tr>\n",
              "    <tr>\n",
              "      <th>4</th>\n",
              "      <td>44</td>\n",
              "      <td>รูปแบบชีวิตที่มีคุณค่า หรูหรา สง่างาม สะท้อนภา...</td>\n",
              "    </tr>\n",
              "    <tr>\n",
              "      <th>5</th>\n",
              "      <td>45</td>\n",
              "      <td>พาร์คเวย์ ชาเล่ต์ โครงการที่มากกว่าความใส่ใจ เ...</td>\n",
              "    </tr>\n",
              "    <tr>\n",
              "      <th>6</th>\n",
              "      <td>73</td>\n",
              "      <td>โดดเด่นด้วยสไตล์ Thai Contemporary ที่สวยงามลง...</td>\n",
              "    </tr>\n",
              "    <tr>\n",
              "      <th>7</th>\n",
              "      <td>95</td>\n",
              "      <td>สำหรับทุกครอบครัวที่ต้องการความเป็นสัดส่วนเพื่...</td>\n",
              "    </tr>\n",
              "    <tr>\n",
              "      <th>8</th>\n",
              "      <td>115</td>\n",
              "      <td>บ้านเดี่ยวที่ดินแปลงใหญ่ในราคาคุ้มค่า บนทำเลถน...</td>\n",
              "    </tr>\n",
              "    <tr>\n",
              "      <th>9</th>\n",
              "      <td>133</td>\n",
              "      <td>ด้วยศักยภาพสูงสุดของพื้นที่สีเขียวรอบโครงการ เ...</td>\n",
              "    </tr>\n",
              "    <tr>\n",
              "      <th>10</th>\n",
              "      <td>141</td>\n",
              "      <td>สัมผัสความต่างที่เหนือกว่าของการใช้ชีวิตในสังค...</td>\n",
              "    </tr>\n",
              "    <tr>\n",
              "      <th>11</th>\n",
              "      <td>156</td>\n",
              "      <td>ความแตกต่างของบ้านหลากดีไซน์</td>\n",
              "    </tr>\n",
              "    <tr>\n",
              "      <th>12</th>\n",
              "      <td>157</td>\n",
              "      <td>ความร่มรื่นของบ้านเดี่ยว ในบรรยากาศริมฝั่งเจ้า...</td>\n",
              "    </tr>\n",
              "    <tr>\n",
              "      <th>13</th>\n",
              "      <td>161</td>\n",
              "      <td>ก่อสร้างด้วยวัสดุมีคุณภาพ มีแบบบ้านให้ลูกค้าเล...</td>\n",
              "    </tr>\n",
              "    <tr>\n",
              "      <th>14</th>\n",
              "      <td>189</td>\n",
              "      <td>บ้านเดี่ยวใจกลางเมือง สามารถเข้า-ออกได้ 2 ทาง ...</td>\n",
              "    </tr>\n",
              "    <tr>\n",
              "      <th>15</th>\n",
              "      <td>192</td>\n",
              "      <td>บ้านหรู ด้วยชีวิตที่เหนือกว่าทุกความประทับใจที...</td>\n",
              "    </tr>\n",
              "    <tr>\n",
              "      <th>16</th>\n",
              "      <td>206</td>\n",
              "      <td>Balance your Life เลือกคุณภาพชีวิตสมดุลลงตัวใน...</td>\n",
              "    </tr>\n",
              "    <tr>\n",
              "      <th>17</th>\n",
              "      <td>208</td>\n",
              "      <td>None</td>\n",
              "    </tr>\n",
              "    <tr>\n",
              "      <th>18</th>\n",
              "      <td>219</td>\n",
              "      <td>อาณาจักรบ้านสวยบรรยากาศทะเลสาบ เพื่อความสุขสมบ...</td>\n",
              "    </tr>\n",
              "    <tr>\n",
              "      <th>19</th>\n",
              "      <td>223</td>\n",
              "      <td>บ้านเดี่ยว บ้านแฝด ที่สร้างด้วยดีไซน์ที่คำนึงถ...</td>\n",
              "    </tr>\n",
              "  </tbody>\n",
              "</table>\n",
              "</div>"
            ],
            "text/plain": [
              "    project_id                                     description_th\n",
              "0            4  ตั้งอยู่ติดถนนรังสิต-นครนายก  จัดแบ่งผังโครงกา...\n",
              "1           24  Balance Your Life เลือกคุณภาพชีวิตสมดุลลงตัวใน...\n",
              "2           29                                               None\n",
              "3           41  บ้านเดี่ยวเล่นระดับ สไตล์ Modren Contemporary ...\n",
              "4           44  รูปแบบชีวิตที่มีคุณค่า หรูหรา สง่างาม สะท้อนภา...\n",
              "5           45  พาร์คเวย์ ชาเล่ต์ โครงการที่มากกว่าความใส่ใจ เ...\n",
              "6           73  โดดเด่นด้วยสไตล์ Thai Contemporary ที่สวยงามลง...\n",
              "7           95  สำหรับทุกครอบครัวที่ต้องการความเป็นสัดส่วนเพื่...\n",
              "8          115  บ้านเดี่ยวที่ดินแปลงใหญ่ในราคาคุ้มค่า บนทำเลถน...\n",
              "9          133  ด้วยศักยภาพสูงสุดของพื้นที่สีเขียวรอบโครงการ เ...\n",
              "10         141  สัมผัสความต่างที่เหนือกว่าของการใช้ชีวิตในสังค...\n",
              "11         156                       ความแตกต่างของบ้านหลากดีไซน์\n",
              "12         157  ความร่มรื่นของบ้านเดี่ยว ในบรรยากาศริมฝั่งเจ้า...\n",
              "13         161  ก่อสร้างด้วยวัสดุมีคุณภาพ มีแบบบ้านให้ลูกค้าเล...\n",
              "14         189  บ้านเดี่ยวใจกลางเมือง สามารถเข้า-ออกได้ 2 ทาง ...\n",
              "15         192  บ้านหรู ด้วยชีวิตที่เหนือกว่าทุกความประทับใจที...\n",
              "16         206  Balance your Life เลือกคุณภาพชีวิตสมดุลลงตัวใน...\n",
              "17         208                                               None\n",
              "18         219  อาณาจักรบ้านสวยบรรยากาศทะเลสาบ เพื่อความสุขสมบ...\n",
              "19         223  บ้านเดี่ยว บ้านแฝด ที่สร้างด้วยดีไซน์ที่คำนึงถ..."
            ]
          },
          "metadata": {
            "tags": []
          },
          "execution_count": 119
        }
      ]
    },
    {
      "metadata": {
        "id": "fMYpmGicwIuZ",
        "colab_type": "text"
      },
      "cell_type": "markdown",
      "source": [
        "2) Obtain the project description for the six projects that the user have browsed.\n",
        "Preferably store them in a list for future reusability. "
      ]
    },
    {
      "metadata": {
        "id": "oqfxkkAPwIuZ",
        "colab_type": "code",
        "colab": {}
      },
      "cell_type": "code",
      "source": [
        "textList = []\n",
        "\n",
        "#Insert your code here, get all the Project descriptions that the user have browsed into textList\n",
        "\n"
      ],
      "execution_count": 0,
      "outputs": []
    },
    {
      "metadata": {
        "id": "4g85fDd3wIuc",
        "colab_type": "text"
      },
      "cell_type": "markdown",
      "source": [
        "3) Obtain the topic probability for each of the project. \n",
        "Hint: Review how to use get_document_topics in the LDA part of this tutorial"
      ]
    },
    {
      "metadata": {
        "id": "hpThqJ3vwIud",
        "colab_type": "code",
        "colab": {
          "base_uri": "https://localhost:8080/",
          "height": 204
        },
        "outputId": "6d031278-633b-4d92-ec81-7e0563cfda4e"
      },
      "cell_type": "code",
      "source": [
        "for i, text in enumerate(textList):\n",
        "    #Insert your code here\n",
        "   \n",
        "  \n",
        "  \n",
        "    for j in range(len(topic_prob)):\n",
        "        df.at[i, 'Topic '+str(topic_prob[j][0])] = topic_prob[j][1]\n",
        "df.head()\n"
      ],
      "execution_count": 0,
      "outputs": [
        {
          "output_type": "execute_result",
          "data": {
            "text/html": [
              "<div>\n",
              "<style scoped>\n",
              "    .dataframe tbody tr th:only-of-type {\n",
              "        vertical-align: middle;\n",
              "    }\n",
              "\n",
              "    .dataframe tbody tr th {\n",
              "        vertical-align: top;\n",
              "    }\n",
              "\n",
              "    .dataframe thead th {\n",
              "        text-align: right;\n",
              "    }\n",
              "</style>\n",
              "<table border=\"1\" class=\"dataframe\">\n",
              "  <thead>\n",
              "    <tr style=\"text-align: right;\">\n",
              "      <th></th>\n",
              "      <th>userCode</th>\n",
              "      <th>project_id</th>\n",
              "      <th>Topic 0</th>\n",
              "      <th>Topic 1</th>\n",
              "      <th>Topic 2</th>\n",
              "      <th>Topic 3</th>\n",
              "      <th>Topic 4</th>\n",
              "      <th>Topic 5</th>\n",
              "      <th>Topic 6</th>\n",
              "      <th>Topic 7</th>\n",
              "    </tr>\n",
              "  </thead>\n",
              "  <tbody>\n",
              "    <tr>\n",
              "      <th>0</th>\n",
              "      <td>0003d990-37d2-140c-a68e-060bc1e81ea5</td>\n",
              "      <td>9334</td>\n",
              "      <td>0.055730</td>\n",
              "      <td>0.0</td>\n",
              "      <td>0.000000</td>\n",
              "      <td>0.118378</td>\n",
              "      <td>0.056521</td>\n",
              "      <td>0.0</td>\n",
              "      <td>0.0</td>\n",
              "      <td>0.756196</td>\n",
              "    </tr>\n",
              "    <tr>\n",
              "      <th>1</th>\n",
              "      <td>0003d990-37d2-140c-a68e-060bc1e81ea5</td>\n",
              "      <td>8742</td>\n",
              "      <td>0.000000</td>\n",
              "      <td>0.0</td>\n",
              "      <td>0.244907</td>\n",
              "      <td>0.000000</td>\n",
              "      <td>0.000000</td>\n",
              "      <td>0.0</td>\n",
              "      <td>0.0</td>\n",
              "      <td>0.717549</td>\n",
              "    </tr>\n",
              "    <tr>\n",
              "      <th>2</th>\n",
              "      <td>0003d990-37d2-140c-a68e-060bc1e81ea5</td>\n",
              "      <td>8742</td>\n",
              "      <td>0.000000</td>\n",
              "      <td>0.0</td>\n",
              "      <td>0.244910</td>\n",
              "      <td>0.000000</td>\n",
              "      <td>0.000000</td>\n",
              "      <td>0.0</td>\n",
              "      <td>0.0</td>\n",
              "      <td>0.717546</td>\n",
              "    </tr>\n",
              "    <tr>\n",
              "      <th>3</th>\n",
              "      <td>0003d990-37d2-140c-a68e-060bc1e81ea5</td>\n",
              "      <td>9334</td>\n",
              "      <td>0.055757</td>\n",
              "      <td>0.0</td>\n",
              "      <td>0.000000</td>\n",
              "      <td>0.118372</td>\n",
              "      <td>0.056520</td>\n",
              "      <td>0.0</td>\n",
              "      <td>0.0</td>\n",
              "      <td>0.756175</td>\n",
              "    </tr>\n",
              "    <tr>\n",
              "      <th>4</th>\n",
              "      <td>0003d990-37d2-140c-a68e-060bc1e81ea5</td>\n",
              "      <td>8631</td>\n",
              "      <td>0.000000</td>\n",
              "      <td>0.0</td>\n",
              "      <td>0.272016</td>\n",
              "      <td>0.000000</td>\n",
              "      <td>0.228988</td>\n",
              "      <td>0.0</td>\n",
              "      <td>0.0</td>\n",
              "      <td>0.482539</td>\n",
              "    </tr>\n",
              "  </tbody>\n",
              "</table>\n",
              "</div>"
            ],
            "text/plain": [
              "                               userCode  project_id   Topic 0  Topic 1  \\\n",
              "0  0003d990-37d2-140c-a68e-060bc1e81ea5        9334  0.055730      0.0   \n",
              "1  0003d990-37d2-140c-a68e-060bc1e81ea5        8742  0.000000      0.0   \n",
              "2  0003d990-37d2-140c-a68e-060bc1e81ea5        8742  0.000000      0.0   \n",
              "3  0003d990-37d2-140c-a68e-060bc1e81ea5        9334  0.055757      0.0   \n",
              "4  0003d990-37d2-140c-a68e-060bc1e81ea5        8631  0.000000      0.0   \n",
              "\n",
              "    Topic 2   Topic 3   Topic 4  Topic 5  Topic 6   Topic 7  \n",
              "0  0.000000  0.118378  0.056521      0.0      0.0  0.756196  \n",
              "1  0.244907  0.000000  0.000000      0.0      0.0  0.717549  \n",
              "2  0.244910  0.000000  0.000000      0.0      0.0  0.717546  \n",
              "3  0.000000  0.118372  0.056520      0.0      0.0  0.756175  \n",
              "4  0.272016  0.000000  0.228988      0.0      0.0  0.482539  "
            ]
          },
          "metadata": {
            "tags": []
          },
          "execution_count": 121
        }
      ]
    },
    {
      "metadata": {
        "id": "drYFxGX7wIug",
        "colab_type": "text"
      },
      "cell_type": "markdown",
      "source": [
        "We will then find the user's interest by simple averaging.\n",
        "\n",
        "Note that this is for simplicity. You should try weighted average or other methods that you think captures the interest of the user well.  "
      ]
    },
    {
      "metadata": {
        "id": "szWIipznwIug",
        "colab_type": "code",
        "colab": {
          "base_uri": "https://localhost:8080/",
          "height": 136
        },
        "outputId": "709bff82-6900-4a6b-a8c6-09eb36359ea8"
      },
      "cell_type": "code",
      "source": [
        "df = df.groupby('userCode')[topic_col].agg('mean')\n",
        "print(df)\n",
        "\n",
        "#obtain the user vector list from the dataframe\n",
        "user_vector = df.iloc[[0]].values.tolist().pop(0)"
      ],
      "execution_count": 0,
      "outputs": [
        {
          "output_type": "stream",
          "text": [
            "                                       Topic 0  Topic 1   Topic 2  Topic 3  \\\n",
            "userCode                                                                     \n",
            "0003d990-37d2-140c-a68e-060bc1e81ea5  0.022297      0.0  0.152367  0.04735   \n",
            "\n",
            "                                       Topic 4  Topic 5  Topic 6   Topic 7  \n",
            "userCode                                                                    \n",
            "0003d990-37d2-140c-a68e-060bc1e81ea5  0.068406      0.0      0.0  0.686001  \n"
          ],
          "name": "stdout"
        }
      ]
    },
    {
      "metadata": {
        "id": "acQZMfbRwIul",
        "colab_type": "text"
      },
      "cell_type": "markdown",
      "source": [
        "## Cosine Similarity\n",
        "\n",
        "\n",
        "---\n",
        "\n"
      ]
    },
    {
      "metadata": {
        "id": "khsqhjAKwIum",
        "colab_type": "text"
      },
      "cell_type": "markdown",
      "source": [
        "Suppose we have two vectors. We want to know how close these two vectors are.\n",
        "\n",
        "One simple way is to find the angle between the two vector. \n",
        "\n",
        "If the two vectors point in the same direction, then they are similar. \n",
        "\n",
        "Since cosine of the angle between the angle will be close to one if the vectors align and zero if the vectors are perpendicular. \n",
        "\n",
        "Recall from mathematics that for two vector U and V, \n",
        "\n",
        "$ U\\dot V = |U||V|cos(\\theta) $\n",
        "        \n",
        " $cos(\\theta) = \\frac{U\\dot V }{|U||V|}$\n",
        " \n",
        " We call  $cos(\\theta)$ the cosine similarity\n",
        "  \n",
        " ### TO DO #6\n",
        " \n",
        " 1) Write a function for finding cosine similarity. \n",
        " \n",
        " Name it cosine_sim(a, b) (a and b are of type list of any length)\n",
        " \n",
        " We have a few testing examples for you to try out."
      ]
    },
    {
      "metadata": {
        "id": "WSodz0QfwIuo",
        "colab_type": "code",
        "colab": {}
      },
      "cell_type": "code",
      "source": [
        "import math\n",
        "\n",
        "def cosine_sim( list1, list2):\n",
        "    \n",
        "    #Insert Your Code Here\n",
        "    \n",
        "    return sim"
      ],
      "execution_count": 0,
      "outputs": []
    },
    {
      "metadata": {
        "id": "VnT7j8VtwIur",
        "colab_type": "code",
        "colab": {
          "base_uri": "https://localhost:8080/",
          "height": 68
        },
        "outputId": "47914ce8-1bbb-4443-dc9d-ccec3de72d25"
      },
      "cell_type": "code",
      "source": [
        "a = [1,1]\n",
        "b = [0.5,0.5]\n",
        "if(cosine_sim(a,b) == 1.0):\n",
        "    print('Test 1 Passed')\n",
        "else:\n",
        "    print('Test 1 Failed')\n",
        "a = [1,2,3]\n",
        "b = [2,1,3]\n",
        "if(cosine_sim(a,b) == 0.9285714285714286):\n",
        "    print('Test 2 Passed')\n",
        "else:\n",
        "    print('Test 2 Failed')\n",
        "a = [1,0,1]\n",
        "b = [0,1,0]\n",
        "if(cosine_sim(a,b) == 0.0):\n",
        "    print('Test 3 Passed')\n",
        "else:\n",
        "    print('Test 3 Failed')"
      ],
      "execution_count": 0,
      "outputs": [
        {
          "output_type": "stream",
          "text": [
            "Test 1 Passed\n",
            "Test 2 Passed\n",
            "Test 3 Passed\n"
          ],
          "name": "stdout"
        }
      ]
    },
    {
      "metadata": {
        "id": "fB13uLRewIuu",
        "colab_type": "text"
      },
      "cell_type": "markdown",
      "source": [
        "Now we will compare the projects with cosine similarity to recommend a project based on the cosine similarity of LDA topics. "
      ]
    },
    {
      "metadata": {
        "id": "dMSV6-AqwIuw",
        "colab_type": "code",
        "colab": {
          "base_uri": "https://localhost:8080/",
          "height": 119
        },
        "outputId": "7a3536ff-9bce-4490-f038-d5c5f752eac4"
      },
      "cell_type": "code",
      "source": [
        "#obtain ~50 projects for testing\n",
        "proj_df = pandas.read_csv('https://raw.githubusercontent.com/PanthonImem/Content-Based-Lab-Notebook/master/project_description.csv', sep = ';').fillna('None')\n",
        "proj_df = proj_df.sort_values('project_id')\n",
        "proj_df = proj_df[proj_df.project_id>9300]\n",
        "proj_df = proj_df[proj_df.project_id<9350]\n",
        "proj_df = proj_df.reset_index(drop = True)\n",
        "\n",
        "#Create a column for each of our topic\n",
        "for i in range(num_top):\n",
        "    proj_df['Topic '+str(i)] = 0.0\n",
        "\n",
        "#Get all projects in our testing set\n",
        "browseList = []\n",
        "for i in range(proj_df.shape[0]):\n",
        "    browseList.append(proj_df.iloc[i]['project_id'])\n",
        "\n",
        "#get all the project description from project in our testing set\n",
        "textList = []\n",
        "proj_df = proj_df.set_index('project_id')\n",
        "for i, proj in enumerate(browseList):\n",
        "    textList.append(proj_df.loc[proj]['description_th'])\n",
        "    \n",
        "#get the LDA topic distribution for all of our testing projects\n",
        "for i, text in enumerate(textList):\n",
        "    list = split_word(text)\n",
        "    bow = dictionary.doc2bow(list)\n",
        "    topic_prob = ldamodel.get_document_topics(bow,minimum_probability=None, minimum_phi_value=None,per_word_topics=False)\n",
        "    for j in range(len(topic_prob)):\n",
        "        proj_df.at[browseList[i], 'Topic '+str(topic_prob[j][0])] = topic_prob[j][1]\n",
        "\n",
        "#compute the cosine similarity\n",
        "dist_list = [0.0]*len(browseList)\n",
        "for i, proj in enumerate(browseList):\n",
        "    item_vector = proj_df.loc[[proj]].values.tolist().pop(0)\n",
        "    item_vector.pop(0)\n",
        "    dist_list[i] += cosine_sim(user_vector, item_vector)\n",
        "    \n",
        "def argmax(list):\n",
        "        max = -1*float(\"inf\")\n",
        "        ind = 0\n",
        "        for i in range(0, len(list)):\n",
        "            if list[i] > max:\n",
        "                ind = i\n",
        "                max = list[i]\n",
        "        return ind\n",
        "    \n",
        "print('Below is our Top 5 Recommendations and their cosine similarity to our user profile')\n",
        "for i in range(0,5):\n",
        "    recom = argmax(dist_list)\n",
        "    print(browseList[recom], dist_list[recom])\n",
        "    dist_list[recom] = 0.0"
      ],
      "execution_count": 0,
      "outputs": [
        {
          "output_type": "stream",
          "text": [
            "Below is our Top 5 Recommendations and their cosine similarity to our user profile\n",
            "9334 0.9718599828503817\n",
            "9335 0.9680030905353205\n",
            "9349 0.9589027928928925\n",
            "9333 0.8845076340508135\n",
            "9306 0.8804714782852602\n"
          ],
          "name": "stdout"
        }
      ]
    },
    {
      "metadata": {
        "id": "L2Y6-SBRwIu4",
        "colab_type": "text"
      },
      "cell_type": "markdown",
      "source": [
        "Our code above shows the top 5 recommendations from ~50 projects with cosine similarity.\n",
        "\n",
        "You should see 9334 as one of our top recommended projects. \n",
        "\n",
        "This is because the user really did browse project 9334 (and in fact, twice) so our user profile which is derived from the browsing history should reflect this.\n",
        "\n",
        "In reality, we want the next best project that the user has not yet browsed. So, we will screen 9334 out from our recommendation. \n",
        "\n",
        "**Keep in mind that this result is purely from LDA. In reality, many more possible features(such as location, starting price) can be extracted from other data file.**"
      ]
    },
    {
      "metadata": {
        "id": "WoCEWrJOwIvW",
        "colab_type": "text"
      },
      "cell_type": "markdown",
      "source": [
        "## -- End of Tutorial --\n",
        "\n",
        "---"
      ]
    }
  ]
}